{
 "cells": [
  {
   "cell_type": "code",
   "execution_count": 1,
   "metadata": {},
   "outputs": [],
   "source": [
    "import unittest\n",
    "\n",
    "class Rectangle:\n",
    "    def __init__(self, a: int, b: int):\n",
    "        self.a = a\n",
    "        self.b = b\n",
    "        \n",
    "    def perimeter(self):\n",
    "        return 2 * (self.a + self.b)\n",
    "    \n",
    "    def area(self):\n",
    "        return self.a * self.b;\n",
    "\n",
    "class TestRectangle(unittest.TestCase):\n",
    "\n",
    "    def test_perimeter(self):\n",
    "        rect = Rectangle(2, 5)\n",
    "        \n",
    "        perimeter = rect.perimeter()\n",
    "        \n",
    "        self.assertEqual(14, perimeter)\n",
    "\n",
    "    def test_area(self):\n",
    "        rect = Rectangle(7, 3)\n",
    "        \n",
    "        area = rect.area()\n",
    "        \n",
    "        self.assertEqual(21, area)\n"
   ]
  },
  {
   "cell_type": "code",
   "execution_count": 2,
   "metadata": {},
   "outputs": [
    {
     "name": "stderr",
     "output_type": "stream",
     "text": [
      "test_area (__main__.TestRectangle) ... ok\n",
      "test_perimeter (__main__.TestRectangle) ... ok\n",
      "\n",
      "----------------------------------------------------------------------\n",
      "Ran 2 tests in 0.002s\n",
      "\n",
      "OK\n"
     ]
    },
    {
     "data": {
      "text/plain": [
       "<unittest.main.TestProgram at 0x7f18f06c1668>"
      ]
     },
     "execution_count": 2,
     "metadata": {},
     "output_type": "execute_result"
    }
   ],
   "source": [
    "unittest.main(argv=[''], verbosity=2, exit=False)"
   ]
  },
  {
   "cell_type": "code",
   "execution_count": 16,
   "metadata": {},
   "outputs": [],
   "source": [
    "class Calc:\n",
    "    def sum(a: int, b: int):\n",
    "        return a + b\n",
    "        \n",
    "    def sub(a: int, b: int):\n",
    "        return a - b\n",
    "        \n",
    "    def multiply(a: int, b: int):\n",
    "        return a * b\n",
    "        \n",
    "    def divide(a: int, b: int):\n",
    "        return a / b\n",
    "        \n",
    "class TestCalc(unittest.TestCase):\n",
    "\n",
    "    def test_sum(self):\n",
    "        sum = Calc.sum(1,2)\n",
    "        self.assertEquals(3, sum)\n",
    "\n",
    "#     def test_sub(self):\n",
    "#         #put your code here\n",
    "        \n",
    "#     def test_mutiply(self):\n",
    "#         #put your code here\n",
    "        \n",
    "#     def test_divide(self):\n",
    "#         #put your code here"
   ]
  },
  {
   "cell_type": "code",
   "execution_count": 17,
   "metadata": {},
   "outputs": [
    {
     "name": "stderr",
     "output_type": "stream",
     "text": [
      "test_sum (__main__.TestCalc) ... /home/rzar/anaconda/lib/python3.7/site-packages/ipykernel_launcher.py:18: DeprecationWarning: Please use assertEqual instead.\n",
      "ok\n",
      "test_area (__main__.TestRectangle) ... ok\n",
      "test_perimeter (__main__.TestRectangle) ... ok\n",
      "\n",
      "----------------------------------------------------------------------\n",
      "Ran 3 tests in 0.010s\n",
      "\n",
      "OK\n"
     ]
    },
    {
     "data": {
      "text/plain": [
       "<unittest.main.TestProgram at 0x7f27c4d1e3d0>"
      ]
     },
     "execution_count": 17,
     "metadata": {},
     "output_type": "execute_result"
    }
   ],
   "source": [
    "unittest.main(argv=[''], verbosity=2, exit=False)"
   ]
  },
  {
   "cell_type": "code",
   "execution_count": null,
   "metadata": {},
   "outputs": [],
   "source": []
  }
 ],
 "metadata": {
  "kernelspec": {
   "display_name": "Python 3",
   "language": "python",
   "name": "python3"
  },
  "language_info": {
   "codemirror_mode": {
    "name": "ipython",
    "version": 3
   },
   "file_extension": ".py",
   "mimetype": "text/x-python",
   "name": "python",
   "nbconvert_exporter": "python",
   "pygments_lexer": "ipython3",
   "version": "3.6.5"
  }
 },
 "nbformat": 4,
 "nbformat_minor": 2
}
