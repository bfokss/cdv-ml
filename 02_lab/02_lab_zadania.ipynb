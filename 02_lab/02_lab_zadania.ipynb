{
 "cells": [
  {
   "cell_type": "markdown",
   "id": "87784d48",
   "metadata": {},
   "source": [
    "1. Reguły “Zen of Python”\n",
    "Wprowadź komendę `import this`.\n",
    "Przygotuj przykłady kodu ilustrujące 3 wybrane reguły zen of python (poprawnie oraz błędnie napisany\n",
    "kod).\n"
   ]
  },
  {
   "cell_type": "code",
   "execution_count": 1,
   "id": "e1249f86",
   "metadata": {},
   "outputs": [
    {
     "name": "stdout",
     "output_type": "stream",
     "text": [
      "The Zen of Python, by Tim Peters\n",
      "\n",
      "Beautiful is better than ugly.\n",
      "Explicit is better than implicit.\n",
      "Simple is better than complex.\n",
      "Complex is better than complicated.\n",
      "Flat is better than nested.\n",
      "Sparse is better than dense.\n",
      "Readability counts.\n",
      "Special cases aren't special enough to break the rules.\n",
      "Although practicality beats purity.\n",
      "Errors should never pass silently.\n",
      "Unless explicitly silenced.\n",
      "In the face of ambiguity, refuse the temptation to guess.\n",
      "There should be one-- and preferably only one --obvious way to do it.\n",
      "Although that way may not be obvious at first unless you're Dutch.\n",
      "Now is better than never.\n",
      "Although never is often better than *right* now.\n",
      "If the implementation is hard to explain, it's a bad idea.\n",
      "If the implementation is easy to explain, it may be a good idea.\n",
      "Namespaces are one honking great idea -- let's do more of those!\n"
     ]
    }
   ],
   "source": [
    "import this"
   ]
  },
  {
   "cell_type": "markdown",
   "id": "e7904d6e",
   "metadata": {},
   "source": [
    "a. Readability counts."
   ]
  },
  {
   "cell_type": "code",
   "execution_count": 9,
   "id": "278970d8",
   "metadata": {},
   "outputs": [
    {
     "name": "stdout",
     "output_type": "stream",
     "text": [
      "This is formated text and it looks awesome\n"
     ]
    }
   ],
   "source": [
    "a = \"formated\"\n",
    "b = \"awesome\"\n",
    "print(f'This is {a} text and it looks {b}')"
   ]
  },
  {
   "cell_type": "markdown",
   "id": "70da04d8",
   "metadata": {},
   "source": [
    "b. Errors should never pass silently."
   ]
  },
  {
   "cell_type": "code",
   "execution_count": 13,
   "id": "6f6e55c0",
   "metadata": {},
   "outputs": [
    {
     "name": "stdout",
     "output_type": "stream",
     "text": [
      "Something went wrong!\n",
      "Try/except exited.\n"
     ]
    }
   ],
   "source": [
    "try:\n",
    "    print(x)\n",
    "except:\n",
    "    print(\"Something went wrong!\")\n",
    "finally:\n",
    "    print(\"Try/except exited.\")"
   ]
  },
  {
   "cell_type": "markdown",
   "id": "8e5b8a6c",
   "metadata": {},
   "source": [
    "c. Sparse is better than dense."
   ]
  },
  {
   "cell_type": "code",
   "execution_count": 4,
   "id": "9dc84ed1",
   "metadata": {},
   "outputs": [
    {
     "name": "stdout",
     "output_type": "stream",
     "text": [
      "Hi Lisa\n",
      "Hi Adam\n",
      "Hi Peter\n"
     ]
    }
   ],
   "source": [
    "def weird_func(param1, param2): [print(param1, x) for x in param2]\n",
    "weird_func(\"Hi\", ['Lisa', 'Adam', 'Peter'])"
   ]
  },
  {
   "cell_type": "markdown",
   "id": "cb4d7567",
   "metadata": {},
   "source": [
    "2. Wykres funkcji sinus."
   ]
  },
  {
   "cell_type": "code",
   "execution_count": 5,
   "id": "a8ce2fe7",
   "metadata": {},
   "outputs": [
    {
     "data": {
      "image/png": "[encoded data removed]",
      "text/plain": [
       "<Figure size 432x288 with 1 Axes>"
      ]
     },
     "metadata": {
      "needs_background": "light"
     },
     "output_type": "display_data"
    }
   ],
   "source": [
    "import matplotlib.pyplot as plt\n",
    "import numpy as np\n",
    "\n",
    "x = np.linspace(0, 4*np.pi, 100)\n",
    "y = np.sin(x)\n",
    "\n",
    "plt.plot(x, y)\n",
    "plt.show()"
   ]
  },
  {
   "cell_type": "markdown",
   "id": "b1d976dc",
   "metadata": {},
   "source": [
    "3. Ciąg Fibonacciego\n",
    "Napisz program, który obliczy N-ty wyraz ciągu Fibonacciego."
   ]
  },
  {
   "cell_type": "code",
   "execution_count": 33,
   "id": "56ebc75e",
   "metadata": {},
   "outputs": [
    {
     "name": "stdout",
     "output_type": "stream",
     "text": [
      "Using recursive function:\n",
      "3\n",
      "\n",
      "Using standard function:\n",
      "Fibonacci sequence up to: 5 elements\n",
      "5\n"
     ]
    }
   ],
   "source": [
    "def fibo(how_many):\n",
    "    num1 = 0\n",
    "    num2 = 1\n",
    "    iterator = 0\n",
    "    if how_many <= 0:\n",
    "        print(f\"Pass positive number. You passed {how_many}\")\n",
    "    elif how_many == 1:\n",
    "        print(f\"Fibonacci sequence up to: {how_many} element\")\n",
    "        print(num1)\n",
    "    else:\n",
    "        print(f\"Fibonacci sequence up to: {how_many} elements\")\n",
    "        while iterator < how_many:\n",
    "            helper = num1 + num2\n",
    "            num1 = num2\n",
    "            num2 = helper\n",
    "            iterator += 1\n",
    "        print(num1)\n",
    "            \n",
    "            \n",
    "def recur_fibo(number):\n",
    "    if number <= 1:\n",
    "        return number\n",
    "    else:\n",
    "        return(recur_fibo(number-1)+recur_fibo(number-2))\n",
    "\n",
    "print(\"Using recursive function:\")\n",
    "print(recur_fibo(4))\n",
    "print(\"\\nUsing standard function:\")\n",
    "fibo(5)\n"
   ]
  },
  {
   "cell_type": "markdown",
   "id": "dd2585ef",
   "metadata": {},
   "source": [
    "4. Napisz program w którym zdefiniujesz klasę `Square` oraz metodę liczącą pole kwadratu."
   ]
  },
  {
   "cell_type": "code",
   "execution_count": 45,
   "id": "b895621b",
   "metadata": {},
   "outputs": [
    {
     "name": "stdout",
     "output_type": "stream",
     "text": [
      "Square area: 1\n",
      "Square area: 16\n"
     ]
    }
   ],
   "source": [
    "class Square:\n",
    "    def __init__(self, a = 1):\n",
    "        self.a = a\n",
    "    \n",
    "    def area(self):\n",
    "        self.area = self.a**2\n",
    "        print(f\"Square area: {self.area}\")\n",
    "\n",
    "\n",
    "firstSquare = Square()\n",
    "secondSquare = Square(4)\n",
    "\n",
    "firstSquare.area()\n",
    "secondSquare.area()\n",
    "    "
   ]
  },
  {
   "cell_type": "markdown",
   "id": "9daf2184",
   "metadata": {},
   "source": [
    "5. Klasy i dziedziczenie\n",
    "Napisz program w którym zdefiniujesz klasę `Rectangle` oraz dziedziczącą z niej klasę `Square`.\n",
    "Program powinien obliczać pola obu rodzajów figur."
   ]
  },
  {
   "cell_type": "code",
   "execution_count": 50,
   "id": "12a9ab9b",
   "metadata": {},
   "outputs": [
    {
     "name": "stdout",
     "output_type": "stream",
     "text": [
      "Rectangle area: 1\n",
      "Rectangle area: 20\n",
      "Square area: 1\n",
      "Square area: 16\n"
     ]
    }
   ],
   "source": [
    "class Rectangle:\n",
    "    def __init__(self, a = 1, b = 1):\n",
    "        self.a = a\n",
    "        self.b = b\n",
    "    \n",
    "    def area(self):\n",
    "        self.area = self.a * self.b\n",
    "        print(f\"Rectangle area: {self.area}\")\n",
    "\n",
    "class Square(Rectangle):\n",
    "    def __init__(self, a = 1):\n",
    "        self.a = a\n",
    "        \n",
    "    def area(self):\n",
    "        self.area = self.a**2\n",
    "        print(f\"Square area: {self.area}\")\n",
    "        \n",
    "firstRectangle = Rectangle()\n",
    "secondRectangle = Rectangle(4, 5)\n",
    "firstSquare = Square()\n",
    "secondSquare = Square(4)\n",
    "\n",
    "firstRectangle.area()\n",
    "secondRectangle.area()\n",
    "\n",
    "firstSquare.area()\n",
    "secondSquare.area()\n",
    "    "
   ]
  },
  {
   "cell_type": "code",
   "execution_count": null,
   "id": "8a12f095",
   "metadata": {},
   "outputs": [],
   "source": []
  }
 ],
 "metadata": {
  "kernelspec": {
   "display_name": "Python 3 (ipykernel)",
   "language": "python",
   "name": "python3"
  },
  "language_info": {
   "codemirror_mode": {
    "name": "ipython",
    "version": 3
   },
   "file_extension": ".py",
   "mimetype": "text/x-python",
   "name": "python",
   "nbconvert_exporter": "python",
   "pygments_lexer": "ipython3",
   "version": "3.9.7"
  }
 },
 "nbformat": 4,
 "nbformat_minor": 5
}
