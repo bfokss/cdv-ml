{
 "cells": [
  {
   "cell_type": "markdown",
   "id": "7e155007",
   "metadata": {},
   "source": [
    "1. Wykorzystując bibliotekę NumPy napisz program, aby utworzyć tablicę 3x3x3 z losowymi wartościami."
   ]
  },
  {
   "cell_type": "code",
   "execution_count": 4,
   "id": "62852b81",
   "metadata": {},
   "outputs": [
    {
     "data": {
      "text/plain": [
       "array([[[ 0.44702954, -0.40510773,  0.75955813],\n",
       "        [ 0.07567646, -0.3603883 , -1.94927047],\n",
       "        [-0.90987884,  1.54685359,  0.0132195 ]],\n",
       "\n",
       "       [[ 0.1765462 , -2.30320313, -0.96857082],\n",
       "        [-1.73920761,  1.18033079,  0.34327072],\n",
       "        [-0.4189702 ,  0.47375162, -1.21432366]],\n",
       "\n",
       "       [[-0.0706355 , -0.79063304, -0.94321006],\n",
       "        [-0.43166512,  0.4029869 ,  0.64123764],\n",
       "        [-2.2455241 ,  0.04037955,  0.01048923]]])"
      ]
     },
     "execution_count": 4,
     "metadata": {},
     "output_type": "execute_result"
    }
   ],
   "source": [
    "import numpy as np\n",
    "\n",
    "data = np.random.randn(3, 3, 3)\n",
    "data"
   ]
  },
  {
   "cell_type": "markdown",
   "id": "c333b2c0",
   "metadata": {},
   "source": [
    "2. Napisz program w Pythonie, który zlicza liczbę wystąpień każdej wartości w danej tablicy nieujemnych\n",
    "liczb całkowitych"
   ]
  },
  {
   "cell_type": "code",
   "execution_count": 5,
   "id": "caf20516",
   "metadata": {},
   "outputs": [
    {
     "name": "stdout",
     "output_type": "stream",
     "text": [
      "Amount of occurences of 40 :1\n",
      "Amount of occurences of 60 :3\n",
      "Amount of occurences of 58 :2\n",
      "Amount of occurences of 92 :4\n",
      "Amount of occurences of 92 :4\n",
      "Amount of occurences of 35 :1\n",
      "Amount of occurences of 45 :4\n",
      "Amount of occurences of 42 :5\n",
      "Amount of occurences of 71 :1\n",
      "Amount of occurences of 86 :2\n",
      "Amount of occurences of 18 :2\n",
      "Amount of occurences of 52 :2\n",
      "Amount of occurences of 21 :1\n",
      "Amount of occurences of 76 :3\n",
      "Amount of occurences of 2 :2\n",
      "Amount of occurences of 50 :2\n",
      "Amount of occurences of 47 :2\n",
      "Amount of occurences of 45 :4\n",
      "Amount of occurences of 23 :2\n",
      "Amount of occurences of 76 :3\n",
      "Amount of occurences of 81 :2\n",
      "Amount of occurences of 73 :1\n",
      "Amount of occurences of 86 :2\n",
      "Amount of occurences of 54 :1\n",
      "Amount of occurences of 75 :2\n",
      "Amount of occurences of 26 :1\n",
      "Amount of occurences of 61 :1\n",
      "Amount of occurences of 95 :1\n",
      "Amount of occurences of 52 :2\n",
      "Amount of occurences of 42 :5\n",
      "Amount of occurences of 56 :1\n",
      "Amount of occurences of 62 :2\n",
      "Amount of occurences of 49 :4\n",
      "Amount of occurences of 36 :1\n",
      "Amount of occurences of 68 :2\n",
      "Amount of occurences of 62 :2\n",
      "Amount of occurences of 92 :4\n",
      "Amount of occurences of 42 :5\n",
      "Amount of occurences of 49 :4\n",
      "Amount of occurences of 45 :4\n",
      "Amount of occurences of 68 :2\n",
      "Amount of occurences of 17 :2\n",
      "Amount of occurences of 11 :1\n",
      "Amount of occurences of 66 :2\n",
      "Amount of occurences of 55 :1\n",
      "Amount of occurences of 30 :2\n",
      "Amount of occurences of 1 :2\n",
      "Amount of occurences of 46 :2\n",
      "Amount of occurences of 18 :2\n",
      "Amount of occurences of 79 :1\n",
      "Amount of occurences of 39 :2\n",
      "Amount of occurences of 76 :3\n",
      "Amount of occurences of 60 :3\n",
      "Amount of occurences of 81 :2\n",
      "Amount of occurences of 53 :2\n",
      "Amount of occurences of 66 :2\n",
      "Amount of occurences of 82 :1\n",
      "Amount of occurences of 77 :2\n",
      "Amount of occurences of 16 :1\n",
      "Amount of occurences of 90 :1\n",
      "Amount of occurences of 28 :2\n",
      "Amount of occurences of 65 :1\n",
      "Amount of occurences of 29 :2\n",
      "Amount of occurences of 45 :4\n",
      "Amount of occurences of 93 :1\n",
      "Amount of occurences of 1 :2\n",
      "Amount of occurences of 59 :1\n",
      "Amount of occurences of 37 :1\n",
      "Amount of occurences of 60 :3\n",
      "Amount of occurences of 23 :2\n",
      "Amount of occurences of 29 :2\n",
      "Amount of occurences of 77 :2\n",
      "Amount of occurences of 97 :1\n",
      "Amount of occurences of 99 :1\n",
      "Amount of occurences of 46 :2\n",
      "Amount of occurences of 17 :2\n",
      "Amount of occurences of 13 :1\n",
      "Amount of occurences of 27 :1\n",
      "Amount of occurences of 24 :2\n",
      "Amount of occurences of 39 :2\n",
      "Amount of occurences of 42 :5\n",
      "Amount of occurences of 84 :1\n",
      "Amount of occurences of 58 :2\n",
      "Amount of occurences of 89 :1\n",
      "Amount of occurences of 49 :4\n",
      "Amount of occurences of 41 :1\n",
      "Amount of occurences of 42 :5\n",
      "Amount of occurences of 50 :2\n",
      "Amount of occurences of 53 :2\n",
      "Amount of occurences of 92 :4\n",
      "Amount of occurences of 25 :1\n",
      "Amount of occurences of 49 :4\n",
      "Amount of occurences of 94 :1\n",
      "Amount of occurences of 28 :2\n",
      "Amount of occurences of 30 :2\n",
      "Amount of occurences of 2 :2\n",
      "Amount of occurences of 70 :1\n",
      "Amount of occurences of 75 :2\n",
      "Amount of occurences of 47 :2\n",
      "Amount of occurences of 24 :2\n"
     ]
    }
   ],
   "source": [
    "data2 = np.random.randint(0,100,100)\n",
    "sum = 0\n",
    "for item in data2:\n",
    "    print(f\"Amount of occurences of {item} :{list(data2).count(item)}\")\n"
   ]
  },
  {
   "cell_type": "markdown",
   "id": "9b96f9ce",
   "metadata": {},
   "source": [
    "3. Wykorzystując bibliotekę NumPy napisz program, aby posortować daną tablicę o wymiarze 2 wzdłuż\n",
    "pierwszej osi, drugiej osi i po spłaszczeniu tablicy.\n"
   ]
  },
  {
   "cell_type": "code",
   "execution_count": 6,
   "id": "15078b21",
   "metadata": {},
   "outputs": [
    {
     "name": "stdout",
     "output_type": "stream",
     "text": [
      "Matrix of unsorted numbers: \n",
      "[[ 0.60358798  1.0916573 ]\n",
      " [-0.43247229 -2.55710124]]\n",
      "Matrix with numbers sorted by first axis: \n",
      "[[-0.43247229 -2.55710124]\n",
      " [ 0.60358798  1.0916573 ]]\n",
      "Matrix with numbers sorted by second axis: \n",
      "[[ 0.60358798  1.0916573 ]\n",
      " [-2.55710124 -0.43247229]]\n",
      "Flattened matrix with sorted numbers: \n",
      "[-2.55710124 -0.43247229  0.60358798  1.0916573 ]\n"
     ]
    }
   ],
   "source": [
    "data3 = np.random.randn(2, 2)\n",
    "print(f\"Matrix of unsorted numbers: \\n{data3}\")\n",
    "print(f\"Matrix with numbers sorted by first axis: \\n{np.sort(data3, 0)}\")\n",
    "print(f\"Matrix with numbers sorted by second axis: \\n{np.sort(data3, 1)}\")\n",
    "print(f\"Flattened matrix with sorted numbers: \\n{np.sort(data3.flatten())}\")\n"
   ]
  },
  {
   "cell_type": "markdown",
   "id": "3d204530",
   "metadata": {},
   "source": [
    "4. Wykorzystując bibliotekę NumPy napisz program, aby przekonwertować tablicę NumPy wartości\n",
    "zmiennoprzecinkowych na tablicę NumPy wartości całkowitych.\n"
   ]
  },
  {
   "cell_type": "code",
   "execution_count": 7,
   "id": "b5b1f39f",
   "metadata": {},
   "outputs": [
    {
     "name": "stdout",
     "output_type": "stream",
     "text": [
      "Unconverted array of floating point numbers: \n",
      " [-0.93438804  0.64320833 -0.7660655 ]\n",
      "Array of floats converted into integers: \n",
      " [0 0 0]\n"
     ]
    }
   ],
   "source": [
    "data4 = np.random.randn(3)\n",
    "int_data4 = data4.astype(np.int64)\n",
    "print(f\"Unconverted array of floating point numbers: \\n {data4}\")\n",
    "print(f\"Array of floats converted into integers: \\n {int_data4}\")"
   ]
  },
  {
   "cell_type": "markdown",
   "id": "fdeb712b",
   "metadata": {},
   "source": [
    "5. NumPy - macierze\n",
    "Korzystając z biblioteki NumPy utwórz dwie dwuwymiarowe macierze z liczbami, a następnie wyznacz\n",
    "ich sumę oraz iloczyn.\n"
   ]
  },
  {
   "cell_type": "code",
   "execution_count": 8,
   "id": "9536c648",
   "metadata": {},
   "outputs": [
    {
     "name": "stdout",
     "output_type": "stream",
     "text": [
      "First matrix: \n",
      "[[ 0.5221969  -0.76546022  0.79470336]\n",
      " [ 2.42053373 -0.52529477  1.41783916]\n",
      " [ 0.16692842 -0.29026416  0.97680565]]\n",
      "Second matrix: \n",
      "[[-0.47669623  1.14247666 -0.15091892]\n",
      " [-0.81889702 -1.71109873 -0.77328057]\n",
      " [ 0.03953938 -0.7166717  -0.80501867]]\n",
      "Sum of matrixes: \n",
      "[[ 0.04550067  0.37701644  0.64378444]\n",
      " [ 1.60163671 -2.2363935   0.64455858]\n",
      " [ 0.2064678  -1.00693586  0.17178698]]\n",
      "Product of matrixes: \n",
      "[[-0.2489293  -0.87452043 -0.11993577]\n",
      " [-1.98216785  0.89883121 -1.09638748]\n",
      " [ 0.00660025  0.20802411 -0.78634679]]\n"
     ]
    }
   ],
   "source": [
    "data5 = np.random.randn(3,3)\n",
    "data6 = np.random.randn(3,3)\n",
    "print(f\"First matrix: \\n{data5}\")\n",
    "print(f\"Second matrix: \\n{data6}\")\n",
    "print(f\"Sum of matrixes: \\n{data5+data6}\")\n",
    "print(f\"Product of matrixes: \\n{data5*data6}\")"
   ]
  },
  {
   "cell_type": "markdown",
   "id": "9d0bee6b",
   "metadata": {},
   "source": [
    "6. NumPy - Błądzenie losowe\n",
    "\n",
    "Napisz program, który utworzy tablicę NumPy z początkowym elementem 0.\n",
    "Tablicę wypełnij 100 liczbami, z których każda będzie sumą poprzedniej oraz wartości wylosowanej ze\n",
    "zbioru (-1, 1).\n",
    "    <br>○ Utwórz wykres na podstawie danych w tablicy\n",
    "    <br>○ Wyznacz minimalną oraz maksymalną wartość w utworzonej tablicy.\n",
    "    <br>○ Zasymuluj utworzenie tablicy 50 razy i sprawdź w ilu przypadkach udało się przekroczyć liczbę 30 w dowolnym kroku. Wyniki zilustruj na wykresie."
   ]
  },
  {
   "cell_type": "code",
   "execution_count": 221,
   "id": "2acd5fde",
   "metadata": {},
   "outputs": [],
   "source": [
    "import matplotlib.pyplot as plt\n",
    "\n",
    "def createArray():\n",
    "    data7 = [0]\n",
    "    data8 = np.array(data7)\n",
    "    values = [-1, 1]\n",
    "\n",
    "    i=0\n",
    "    while i < 99:\n",
    "        data9 = np.random.choice(values)\n",
    "        data8 = np.append(data8, data9+data8[i])\n",
    "        i = i+1\n",
    "    return data8"
   ]
  },
  {
   "cell_type": "code",
   "execution_count": 226,
   "id": "c170e651",
   "metadata": {},
   "outputs": [
    {
     "name": "stdout",
     "output_type": "stream",
     "text": [
      "1.\n",
      "\n",
      "First array values: \n",
      "\n",
      " [ 0 -1  0  1  2  3  4  5  6  5  4  3  4  3  4  5  4  5  6  7  8  7  6  5\n",
      "  6  7  6  7  8  7  6  5  4  5  6  5  6  5  6  7  6  5  6  7  8  9 10 11\n",
      " 12 11 12 13 12 11 10 11 10  9  8  7  6  7  6  7  6  7  6  7  6  5  4  5\n",
      "  6  5  6  7  6  5  4  3  2  1  0  1  0  1  2  1  0  1  2  3  2  3  4  3\n",
      "  2  1  0 -1]\n"
     ]
    },
    {
     "data": {
      "image/png": "[encoded data removed]",
      "text/plain": [
       "<Figure size 432x288 with 1 Axes>"
      ]
     },
     "metadata": {
      "needs_background": "light"
     },
     "output_type": "display_data"
    }
   ],
   "source": [
    "\n",
    "print(\"1.\")\n",
    "firstArray = createArray()\n",
    "plt.plot(np.arange(100), firstArray)\n",
    "plt.title('firstArray graph')\n",
    "plt.xlabel('X - Array element number')\n",
    "plt.ylabel('Y - Element value')\n",
    "print(f\"\\nFirst array values: \\n\\n {firstArray}\")\n"
   ]
  },
  {
   "cell_type": "code",
   "execution_count": 227,
   "id": "a35a2038",
   "metadata": {},
   "outputs": [
    {
     "name": "stdout",
     "output_type": "stream",
     "text": [
      "2.\n",
      "\n",
      "First array MAX value: 13\n",
      "\n",
      "First array MIN value: -1\n"
     ]
    }
   ],
   "source": [
    "print(\"2.\")\n",
    "print(f\"\\nFirst array MAX value: {np.amax(firstArray)}\")\n",
    "print(f\"\\nFirst array MIN value: {np.amin(firstArray)}\")"
   ]
  },
  {
   "cell_type": "code",
   "execution_count": 259,
   "id": "265917b7",
   "metadata": {},
   "outputs": [
    {
     "name": "stdout",
     "output_type": "stream",
     "text": [
      "3.\n",
      "\n",
      "How many times we crossed value 30: 0\n",
      "Result maximum values of 50 attempts: \n",
      "[13, 8, 7, 0, 3, 0, 4, 0, 10, 0, 12, 11, 5, 14, 20, 21, 2, 3, 16, 11, 22, 4, 3, 5, 10, 9, 8, 7, 1, 22, 0, 3, 18, 0, 12, 24, 17, 6, 2, 2, 0, 18, 17, 11, 1, 11, 1, 10, 11, 6]\n"
     ]
    },
    {
     "data": {
      "image/png": "[encoded data removed]",
      "text/plain": [
       "<Figure size 432x288 with 1 Axes>"
      ]
     },
     "metadata": {
      "needs_background": "light"
     },
     "output_type": "display_data"
    }
   ],
   "source": [
    "print(\"3.\")\n",
    "i=0\n",
    "resultArray = []\n",
    "result = 0\n",
    "while i<50:\n",
    "    testArray = createArray()\n",
    "    maximum = np.amax(testArray)\n",
    "    if maximum > 30:\n",
    "        result = result+1\n",
    "    else:\n",
    "        pass\n",
    "    resultArray.append(maximum)\n",
    "    i = i+1\n",
    "\n",
    "plt.plot(np.arange(50), resultArray)\n",
    "plt.title('Random walk graph')\n",
    "plt.xlabel('X - Array number')\n",
    "plt.ylabel('Y - Array maximum value')\n",
    "print(f\"\\nHow many times we crossed value 30: {result}\")\n",
    "print(f\"Result maximum values of 50 attempts: \\n{resultArray}\")"
   ]
  },
  {
   "cell_type": "code",
   "execution_count": null,
   "id": "0003f317",
   "metadata": {},
   "outputs": [],
   "source": []
  }
 ],
 "metadata": {
  "kernelspec": {
   "display_name": "Python 3 (ipykernel)",
   "language": "python",
   "name": "python3"
  },
  "language_info": {
   "codemirror_mode": {
    "name": "ipython",
    "version": 3
   },
   "file_extension": ".py",
   "mimetype": "text/x-python",
   "name": "python",
   "nbconvert_exporter": "python",
   "pygments_lexer": "ipython3",
   "version": "3.9.7"
  }
 },
 "nbformat": 4,
 "nbformat_minor": 5
}
