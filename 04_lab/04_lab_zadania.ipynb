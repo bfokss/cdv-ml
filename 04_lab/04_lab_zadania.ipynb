{
 "cells": [
  {
   "cell_type": "code",
   "execution_count": null,
   "id": "65c7d779",
   "metadata": {},
   "outputs": [],
   "source": [
    "1. Napisz funkcję nagrody dla AWS Deep Racer"
   ]
  },
  {
   "cell_type": "code",
   "execution_count": null,
   "id": "9a3543be",
   "metadata": {},
   "outputs": [],
   "source": [
    "def reward_function(params):\n",
    "    '''\n",
    "    Example of rewarding the agent to follow center line and speed\n",
    "    '''\n",
    "    \n",
    "    # Read input parameters\n",
    "    track_width = params['track_width']\n",
    "    distance_from_center = params['distance_from_center']\n",
    "    speed = params['speed']\n",
    "    \n",
    "    # Calculate 3 markers that are at varying distances away from the center line\n",
    "    marker_1 = 0.1 * track_width\n",
    "    marker_2 = 0.25 * track_width\n",
    "    marker_3 = 0.5 * track_width\n",
    "    \n",
    "    # Give higher reward if the car is closer to center line and vice versa\n",
    "    if (distance_from_center <= marker_1) and (speed > 0.6):\n",
    "        reward = 1.0\n",
    "    elif (distance_from_center <= marker_2) and (speed < 0.6):\n",
    "        reward = 0.5\n",
    "    elif distance_from_center <= marker_3:\n",
    "        reward = 0.1\n",
    "    else:\n",
    "        reward = 1e-3  # likely crashed/ close to off track\n",
    "    \n",
    "    return float(reward)"
   ]
  },
  {
   "cell_type": "markdown",
   "id": "15188b86",
   "metadata": {},
   "source": [
    "- Reinforcement learning - Training process"
   ]
  },
  {
   "cell_type": "markdown",
   "id": "e42f935e",
   "metadata": {},
   "source": [
    "![alt text](rl_1.png \"Reinforcement Learning - Training\")"
   ]
  },
  {
   "cell_type": "markdown",
   "id": "e9e8a320",
   "metadata": {},
   "source": [
    "- Reinforcement learning - Evaluation"
   ]
  },
  {
   "cell_type": "markdown",
   "id": "074949d1",
   "metadata": {},
   "source": [
    "![alt text](rl_2.png \"Reinforcement Learning - Training\")"
   ]
  },
  {
   "cell_type": "code",
   "execution_count": null,
   "id": "825f523e",
   "metadata": {},
   "outputs": [],
   "source": []
  }
 ],
 "metadata": {
  "kernelspec": {
   "display_name": "Python 3 (ipykernel)",
   "language": "python",
   "name": "python3"
  },
  "language_info": {
   "codemirror_mode": {
    "name": "ipython",
    "version": 3
   },
   "file_extension": ".py",
   "mimetype": "text/x-python",
   "name": "python",
   "nbconvert_exporter": "python",
   "pygments_lexer": "ipython3",
   "version": "3.9.7"
  }
 },
 "nbformat": 4,
 "nbformat_minor": 5
}
