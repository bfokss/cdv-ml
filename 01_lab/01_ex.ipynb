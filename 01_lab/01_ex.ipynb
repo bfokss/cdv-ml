{
 "cells": [
  {
   "cell_type": "code",
   "execution_count": 3,
   "id": "34fa6306",
   "metadata": {},
   "outputs": [
    {
     "data": {
      "text/plain": [
       "array([0])"
      ]
     },
     "execution_count": 3,
     "metadata": {},
     "output_type": "execute_result"
    }
   ],
   "source": [
    "from sklearn import tree\n",
    "# 1. Przygotowanie zbioru treningowego X\n",
    "# zbiór danych studentów modułu \"API w eksploracji danych\"\n",
    "# pierwsza wartość - frekwencja na zajęciach 1-10\n",
    "# druga wartość - czy projekt został oddany 0-1\n",
    "# trzecia wartość - liczba punktów za realizowane zadania 1-10\n",
    "students = [\n",
    "[8, 1, 10],\n",
    "[9, 1, 8],\n",
    "[10, 1, 7],\n",
    "[5, 0, 4],\n",
    "[10, 1, 7],\n",
    "[9, 1, 7],\n",
    "[0, 0, 1],\n",
    "[8, 0, 0],\n",
    "[10, 0, 2],\n",
    "[3, 1, 1],\n",
    "[10, 1, 10],\n",
    "[9, 1, 9],\n",
    "[6, 1, 6],\n",
    "[10, 1, 5],\n",
    "[8, 1, 6],\n",
    "[0, 0, 0]\n",
    "]\n",
    "# 2. Przygotowanie etykiet zbioru treningowego y\n",
    "whoIsClassified = [1, 1, 1, 0, 1, 1, 0, 0, 0, 0, 1, 1, 1, 1, 1, 0]\n",
    "# 3. Utworzenie modelu\n",
    "clf = tree.DecisionTreeClassifier()\n",
    "# 4. Trenowanie modelu\n",
    "clf.fit(students, whoIsClassified)\n",
    "# 5. Wykorzystanie modelu do klasyfikacji nowych danych\n",
    "clf.predict([[1, 1, 1]]) #zamień ? zgodnie z własnymi preferencjami"
   ]
  }
 ],
 "metadata": {
  "kernelspec": {
   "display_name": "Python 3 (ipykernel)",
   "language": "python",
   "name": "python3"
  },
  "language_info": {
   "codemirror_mode": {
    "name": "ipython",
    "version": 3
   },
   "file_extension": ".py",
   "mimetype": "text/x-python",
   "name": "python",
   "nbconvert_exporter": "python",
   "pygments_lexer": "ipython3",
   "version": "3.9.7"
  }
 },
 "nbformat": 4,
 "nbformat_minor": 5
}
