{
 "cells": [
  {
   "cell_type": "markdown",
   "id": "7e155007",
   "metadata": {},
   "source": [
    "1. Wykorzystując bibliotekę NumPy napisz program, aby utworzyć tablicę 3x3x3 z losowymi wartościami."
   ]
  },
  {
   "cell_type": "code",
   "execution_count": 196,
   "id": "62852b81",
   "metadata": {},
   "outputs": [
    {
     "data": {
      "text/plain": [
       "array([[[-0.84576942,  3.15241154,  1.05877346],\n",
       "        [-2.34039375, -0.02487022, -0.3501335 ],\n",
       "        [ 0.32358932, -0.12896134,  0.85797841]],\n",
       "\n",
       "       [[ 2.88139439, -1.1334759 , -0.79574996],\n",
       "        [ 0.31992572, -1.55350445,  1.28999092],\n",
       "        [-1.5341149 , -1.25725131, -0.09596641]],\n",
       "\n",
       "       [[ 0.06447241, -0.88274861, -0.15396165],\n",
       "        [-0.27995561,  0.52039838, -1.5414067 ],\n",
       "        [ 0.46509886,  0.25556889,  0.42306714]]])"
      ]
     },
     "execution_count": 196,
     "metadata": {},
     "output_type": "execute_result"
    }
   ],
   "source": [
    "import numpy as np\n",
    "\n",
    "data = np.random.randn(3, 3, 3)\n",
    "data"
   ]
  },
  {
   "cell_type": "markdown",
   "id": "c333b2c0",
   "metadata": {},
   "source": [
    "2. Napisz program w Pythonie, który zlicza liczbę wystąpień każdej wartości w danej tablicy nieujemnych\n",
    "liczb całkowitych"
   ]
  },
  {
   "cell_type": "code",
   "execution_count": 197,
   "id": "caf20516",
   "metadata": {},
   "outputs": [
    {
     "name": "stdout",
     "output_type": "stream",
     "text": [
      "Amount of occurences of 94 :3\n",
      "Amount of occurences of 11 :3\n",
      "Amount of occurences of 40 :2\n",
      "Amount of occurences of 15 :2\n",
      "Amount of occurences of 90 :1\n",
      "Amount of occurences of 50 :2\n",
      "Amount of occurences of 64 :3\n",
      "Amount of occurences of 19 :3\n",
      "Amount of occurences of 62 :1\n",
      "Amount of occurences of 61 :1\n",
      "Amount of occurences of 60 :2\n",
      "Amount of occurences of 78 :2\n",
      "Amount of occurences of 59 :2\n",
      "Amount of occurences of 84 :1\n",
      "Amount of occurences of 11 :3\n",
      "Amount of occurences of 69 :2\n",
      "Amount of occurences of 93 :2\n",
      "Amount of occurences of 27 :1\n",
      "Amount of occurences of 74 :1\n",
      "Amount of occurences of 10 :1\n",
      "Amount of occurences of 76 :1\n",
      "Amount of occurences of 52 :2\n",
      "Amount of occurences of 33 :2\n",
      "Amount of occurences of 87 :2\n",
      "Amount of occurences of 60 :2\n",
      "Amount of occurences of 96 :1\n",
      "Amount of occurences of 65 :2\n",
      "Amount of occurences of 64 :3\n",
      "Amount of occurences of 98 :1\n",
      "Amount of occurences of 31 :1\n",
      "Amount of occurences of 80 :3\n",
      "Amount of occurences of 25 :3\n",
      "Amount of occurences of 19 :3\n",
      "Amount of occurences of 23 :2\n",
      "Amount of occurences of 92 :1\n",
      "Amount of occurences of 64 :3\n",
      "Amount of occurences of 82 :2\n",
      "Amount of occurences of 94 :3\n",
      "Amount of occurences of 23 :2\n",
      "Amount of occurences of 15 :2\n",
      "Amount of occurences of 13 :1\n",
      "Amount of occurences of 5 :1\n",
      "Amount of occurences of 40 :2\n",
      "Amount of occurences of 43 :2\n",
      "Amount of occurences of 89 :2\n",
      "Amount of occurences of 50 :2\n",
      "Amount of occurences of 43 :2\n",
      "Amount of occurences of 83 :1\n",
      "Amount of occurences of 93 :2\n",
      "Amount of occurences of 41 :3\n",
      "Amount of occurences of 82 :2\n",
      "Amount of occurences of 87 :2\n",
      "Amount of occurences of 67 :1\n",
      "Amount of occurences of 37 :2\n",
      "Amount of occurences of 58 :1\n",
      "Amount of occurences of 69 :2\n",
      "Amount of occurences of 80 :3\n",
      "Amount of occurences of 24 :1\n",
      "Amount of occurences of 94 :3\n",
      "Amount of occurences of 41 :3\n",
      "Amount of occurences of 2 :2\n",
      "Amount of occurences of 49 :1\n",
      "Amount of occurences of 3 :1\n",
      "Amount of occurences of 32 :1\n",
      "Amount of occurences of 66 :1\n",
      "Amount of occurences of 28 :1\n",
      "Amount of occurences of 34 :1\n",
      "Amount of occurences of 99 :1\n",
      "Amount of occurences of 25 :3\n",
      "Amount of occurences of 35 :1\n",
      "Amount of occurences of 54 :1\n",
      "Amount of occurences of 97 :2\n",
      "Amount of occurences of 45 :1\n",
      "Amount of occurences of 78 :2\n",
      "Amount of occurences of 88 :1\n",
      "Amount of occurences of 57 :1\n",
      "Amount of occurences of 42 :1\n",
      "Amount of occurences of 80 :3\n",
      "Amount of occurences of 25 :3\n",
      "Amount of occurences of 4 :1\n",
      "Amount of occurences of 19 :3\n",
      "Amount of occurences of 7 :1\n",
      "Amount of occurences of 41 :3\n",
      "Amount of occurences of 52 :2\n",
      "Amount of occurences of 2 :2\n",
      "Amount of occurences of 36 :1\n",
      "Amount of occurences of 37 :2\n",
      "Amount of occurences of 81 :1\n",
      "Amount of occurences of 97 :2\n",
      "Amount of occurences of 33 :2\n",
      "Amount of occurences of 21 :1\n",
      "Amount of occurences of 59 :2\n",
      "Amount of occurences of 12 :1\n",
      "Amount of occurences of 75 :1\n",
      "Amount of occurences of 79 :1\n",
      "Amount of occurences of 65 :2\n",
      "Amount of occurences of 86 :1\n",
      "Amount of occurences of 89 :2\n",
      "Amount of occurences of 53 :1\n",
      "Amount of occurences of 11 :3\n"
     ]
    }
   ],
   "source": [
    "data2 = np.random.randint(0,100,100)\n",
    "sum = 0\n",
    "for item in data2:\n",
    "    print(f\"Amount of occurences of {item} :{list(data2).count(item)}\")\n"
   ]
  },
  {
   "cell_type": "markdown",
   "id": "9b96f9ce",
   "metadata": {},
   "source": [
    "3. Wykorzystując bibliotekę NumPy napisz program, aby posortować daną tablicę o wymiarze 2 wzdłuż\n",
    "pierwszej osi, drugiej osi i po spłaszczeniu tablicy.\n"
   ]
  },
  {
   "cell_type": "code",
   "execution_count": 198,
   "id": "15078b21",
   "metadata": {},
   "outputs": [
    {
     "name": "stdout",
     "output_type": "stream",
     "text": [
      "Matrix of unsorted numbers: \n",
      "[[-0.09855528 -0.23368575]\n",
      " [-0.26498863  0.09997717]]\n",
      "Matrix with numbers sorted by first axis: \n",
      "[[-0.26498863 -0.23368575]\n",
      " [-0.09855528  0.09997717]]\n",
      "Matrix with numbers sorted by second axis: \n",
      "[[-0.23368575 -0.09855528]\n",
      " [-0.26498863  0.09997717]]\n",
      "Flattened matrix with sorted numbers: \n",
      "[-0.26498863 -0.23368575 -0.09855528  0.09997717]\n"
     ]
    }
   ],
   "source": [
    "data3 = np.random.randn(2, 2)\n",
    "print(f\"Matrix of unsorted numbers: \\n{data3}\")\n",
    "print(f\"Matrix with numbers sorted by first axis: \\n{np.sort(data3, 0)}\")\n",
    "print(f\"Matrix with numbers sorted by second axis: \\n{np.sort(data3, 1)}\")\n",
    "print(f\"Flattened matrix with sorted numbers: \\n{np.sort(data3.flatten())}\")\n"
   ]
  },
  {
   "cell_type": "markdown",
   "id": "3d204530",
   "metadata": {},
   "source": [
    "4. Wykorzystując bibliotekę NumPy napisz program, aby przekonwertować tablicę NumPy wartości\n",
    "zmiennoprzecinkowych na tablicę NumPy wartości całkowitych.\n"
   ]
  },
  {
   "cell_type": "code",
   "execution_count": 199,
   "id": "b5b1f39f",
   "metadata": {},
   "outputs": [
    {
     "name": "stdout",
     "output_type": "stream",
     "text": [
      "Unconverted array of floating point numbers: \n",
      " [-0.43325432 -0.69749129 -0.32942078]\n",
      "Array of floats converted into integers: \n",
      " [0 0 0]\n"
     ]
    }
   ],
   "source": [
    "data4 = np.random.randn(3)\n",
    "int_data4 = data4.astype(np.int64)\n",
    "print(f\"Unconverted array of floating point numbers: \\n {data4}\")\n",
    "print(f\"Array of floats converted into integers: \\n {int_data4}\")"
   ]
  },
  {
   "cell_type": "markdown",
   "id": "fdeb712b",
   "metadata": {},
   "source": [
    "5. NumPy - macierze\n",
    "Korzystając z biblioteki NumPy utwórz dwie dwuwymiarowe macierze z liczbami, a następnie wyznacz\n",
    "ich sumę oraz iloczyn.\n"
   ]
  },
  {
   "cell_type": "code",
   "execution_count": 200,
   "id": "9536c648",
   "metadata": {},
   "outputs": [
    {
     "name": "stdout",
     "output_type": "stream",
     "text": [
      "First matrix: \n",
      "[[-0.18279837 -1.34015471  0.12000132]\n",
      " [ 0.16348201  0.11427008 -0.13141658]\n",
      " [ 0.61086612  0.59924519 -1.41584033]]\n",
      "Second matrix: \n",
      "[[ 0.72302485 -0.76097052  0.15096155]\n",
      " [-2.32619513  0.65196106  0.78137996]\n",
      " [ 0.92290596  0.56543194  0.08236625]]\n",
      "Sum of matrixes: \n",
      "[[ 0.54022648 -2.10112524  0.27096286]\n",
      " [-2.16271313  0.76623114  0.64996338]\n",
      " [ 1.53377208  1.16467713 -1.33347408]]\n",
      "Product of matrixes: \n",
      "[[-0.13216776  1.01981823  0.01811558]\n",
      " [-0.38029105  0.07449964 -0.10268628]\n",
      " [ 0.56377198  0.33883237 -0.11661746]]\n"
     ]
    }
   ],
   "source": [
    "data5 = np.random.randn(3,3)\n",
    "data6 = np.random.randn(3,3)\n",
    "print(f\"First matrix: \\n{data5}\")\n",
    "print(f\"Second matrix: \\n{data6}\")\n",
    "print(f\"Sum of matrixes: \\n{data5+data6}\")\n",
    "print(f\"Product of matrixes: \\n{data5*data6}\")"
   ]
  },
  {
   "cell_type": "markdown",
   "id": "9d0bee6b",
   "metadata": {},
   "source": [
    "6. NumPy - Błądzenie losowe\n",
    "\n",
    "Napisz program, który utworzy tablicę NumPy z początkowym elementem 0.\n",
    "Tablicę wypełnij 100 liczbami, z których każda będzie sumą poprzedniej oraz wartości wylosowanej ze\n",
    "zbioru (-1, 1).\n",
    "    <br>○ Utwórz wykres na podstawie danych w tablicy\n",
    "    <br>○ Wyznacz minimalną oraz maksymalną wartość w utworzonej tablicy.\n",
    "    <br>○ Zasymuluj utworzenie tablicy 50 razy i sprawdź w ilu przypadkach udało się przekroczyć liczbę 30 w dowolnym kroku. Wyniki zilustruj na wykresie."
   ]
  },
  {
   "cell_type": "code",
   "execution_count": 201,
   "id": "2acd5fde",
   "metadata": {},
   "outputs": [],
   "source": [
    "import matplotlib.pyplot as plt\n",
    "\n",
    "def createArray():\n",
    "    data7 = [0]\n",
    "    data8 = np.array(data7)\n",
    "\n",
    "    i=0\n",
    "    while i < 99:\n",
    "        data9 = np.random.uniform(-1,1)\n",
    "        data8 = np.append(data8, data9+data8[i])\n",
    "        i = i+1\n",
    "    return data8"
   ]
  },
  {
   "cell_type": "code",
   "execution_count": 202,
   "id": "c170e651",
   "metadata": {},
   "outputs": [
    {
     "name": "stdout",
     "output_type": "stream",
     "text": [
      "1.\n",
      "\n",
      "First array values: \n",
      "\n",
      " [ 0.          0.3359574  -0.25673253 -0.73526022 -1.32453123 -0.87436618\n",
      "  0.00557382  0.22297837  0.28745931  0.1006754  -0.61701911 -1.44349934\n",
      " -1.72792264 -1.16799381 -1.66586643 -1.74365265 -1.40693606 -0.62453957\n",
      " -1.38327768 -0.53224036 -0.22328723  0.32861818  0.38511856  1.22727355\n",
      "  1.07684717  0.98040417  0.52715423  1.45940689  1.56215702  1.4876989\n",
      "  0.77234663  1.48342403  1.66563163  1.16622243  0.21440533 -0.22662404\n",
      " -0.95747466 -1.71588985 -0.9718839  -0.55781645 -0.17203639 -0.96918523\n",
      " -0.21613139 -1.08593159 -1.68469797 -2.57374964 -2.84556536 -2.05195267\n",
      " -1.88089796 -1.81221823 -1.04964756 -0.97996842 -0.97273889 -0.94702014\n",
      " -1.62113504 -1.84532581 -2.73249501 -3.58711989 -3.57955424 -3.26884804\n",
      " -3.64428975 -3.62764423 -3.34498138 -2.97298363 -3.78480999 -3.65686354\n",
      " -4.36727036 -3.736929   -4.26517122 -4.1478179  -4.71346993 -3.99868996\n",
      " -3.87037301 -3.50494374 -2.78334762 -2.25778904 -1.71611499 -1.44961896\n",
      " -0.67092308 -1.26368759 -0.95606914  0.03222186 -0.44928618 -0.62353617\n",
      " -1.07850803 -1.35466062 -1.33348035 -1.10194559 -0.10224418 -0.44793641\n",
      " -0.74055037 -1.36731886 -1.99238818 -1.67727874 -1.13360865 -0.78912121\n",
      " -0.58708751 -0.87988882 -1.37822892 -2.29183088]\n"
     ]
    },
    {
     "data": {
      "image/png": "[encoded data removed]",
      "text/plain": [
       "<Figure size 432x288 with 1 Axes>"
      ]
     },
     "metadata": {
      "needs_background": "light"
     },
     "output_type": "display_data"
    }
   ],
   "source": [
    "\n",
    "print(\"1.\")\n",
    "firstArray = createArray()\n",
    "plt.plot(np.arange(100), firstArray)\n",
    "plt.title('firstArray graph')\n",
    "plt.xlabel('X - Array element number')\n",
    "plt.ylabel('Y - Element value')\n",
    "print(f\"\\nFirst array values: \\n\\n {firstArray}\")\n"
   ]
  },
  {
   "cell_type": "code",
   "execution_count": 203,
   "id": "a35a2038",
   "metadata": {},
   "outputs": [
    {
     "name": "stdout",
     "output_type": "stream",
     "text": [
      "2.\n",
      "\n",
      "First array MAX value: 1.6656316345739925\n",
      "\n",
      "First array MIN value: -4.713469934398403\n"
     ]
    }
   ],
   "source": [
    "print(\"2.\")\n",
    "print(f\"\\nFirst array MAX value: {np.amax(firstArray)}\")\n",
    "print(f\"\\nFirst array MIN value: {np.amin(firstArray)}\")"
   ]
  },
  {
   "cell_type": "code",
   "execution_count": 204,
   "id": "265917b7",
   "metadata": {},
   "outputs": [
    {
     "name": "stdout",
     "output_type": "stream",
     "text": [
      "3.\n",
      "\n",
      "How many times we crossed value 30: 0\n",
      "Result maximum values of 50 attempts: \n",
      "[5.526697241488252, 0.3254047601143564, 9.187772751687577, 1.7775817882788587, 4.746079296536151, 2.4738020349041383, 7.140043452367067, 4.714500496705967, 1.2142883489285974, 0.1346403192634289, 5.9224770682673, 1.0158788997196617, 1.5185388247472795, 7.593141713696466, 3.510406366952277, 11.323137260677614, 1.2576111481366332, 4.186184959220972, 5.900369112902129, 12.59291025209258, 2.2081688340721923, 0.48429233969810004, 5.135671570465151, 7.4315369588236555, 6.107823610840006, 3.3032610825587705, 0.9028649089796841, 4.491837458567904, 4.256030238717741, 0.1528085325515085, 8.65800253074067, 5.021100624701374, 1.694796044178293, 0.8641040913469513, 0.0, 4.482278277299466, 7.815684782112383, 0.0, 10.099163814646733, 6.140918273200522, 8.720241360589057, 0.04303564013449268, 8.316132326678611, 9.165398540348896, 8.498682860176249, 4.6156663788244074, 4.8596143393828815, 4.897730345699152, 9.5472984353295, 7.379058109328639]\n"
     ]
    },
    {
     "data": {
      "image/png": "[encoded data removed]",
      "text/plain": [
       "<Figure size 432x288 with 1 Axes>"
      ]
     },
     "metadata": {
      "needs_background": "light"
     },
     "output_type": "display_data"
    }
   ],
   "source": [
    "print(\"3.\")\n",
    "i=0\n",
    "resultArray = []\n",
    "result = 0\n",
    "while i<50:\n",
    "    testArray = createArray()\n",
    "    maximum = np.amax(testArray)\n",
    "    if maximum > 30:\n",
    "        result = result+1\n",
    "    else:\n",
    "        pass\n",
    "    resultArray.append(maximum)\n",
    "    i = i+1\n",
    "\n",
    "plt.plot(np.arange(50), resultArray)\n",
    "plt.title('Random walk graph')\n",
    "plt.xlabel('X - Array number')\n",
    "plt.ylabel('Y - Array maximum value')\n",
    "print(f\"\\nHow many times we crossed value 30: {result}\")\n",
    "print(f\"Result maximum values of 50 attempts: \\n{resultArray}\")"
   ]
  }
 ],
 "metadata": {
  "kernelspec": {
   "display_name": "Python 3 (ipykernel)",
   "language": "python",
   "name": "python3"
  },
  "language_info": {
   "codemirror_mode": {
    "name": "ipython",
    "version": 3
   },
   "file_extension": ".py",
   "mimetype": "text/x-python",
   "name": "python",
   "nbconvert_exporter": "python",
   "pygments_lexer": "ipython3",
   "version": "3.9.7"
  }
 },
 "nbformat": 4,
 "nbformat_minor": 5
}
