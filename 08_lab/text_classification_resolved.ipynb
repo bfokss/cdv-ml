{
 "cells": [
  {
   "cell_type": "markdown",
   "metadata": {},
   "source": [
    "### 1. Import zbioru danych"
   ]
  },
  {
   "cell_type": "code",
   "execution_count": 2,
   "metadata": {},
   "outputs": [
    {
     "name": "stderr",
     "output_type": "stream",
     "text": [
      "/usr/share/anaconda3/lib/python3.6/site-packages/sklearn/ensemble/weight_boosting.py:29: DeprecationWarning: numpy.core.umath_tests is an internal NumPy module and should not be imported. It will be removed in a future NumPy release.\n",
      "  from numpy.core.umath_tests import inner1d\n",
      "/usr/share/anaconda3/lib/python3.6/site-packages/h5py/__init__.py:36: FutureWarning: Conversion of the second argument of issubdtype from `float` to `np.floating` is deprecated. In future, it will be treated as `np.float64 == np.dtype(float).type`.\n",
      "  from ._conv import register_converters as _register_converters\n",
      "Using TensorFlow backend.\n",
      "/usr/share/anaconda3/lib/python3.6/site-packages/tensorflow/python/framework/dtypes.py:526: FutureWarning: Passing (type, 1) or '1type' as a synonym of type is deprecated; in a future version of numpy, it will be understood as (type, (1,)) / '(1,)type'.\n",
      "  _np_qint8 = np.dtype([(\"qint8\", np.int8, 1)])\n",
      "/usr/share/anaconda3/lib/python3.6/site-packages/tensorflow/python/framework/dtypes.py:527: FutureWarning: Passing (type, 1) or '1type' as a synonym of type is deprecated; in a future version of numpy, it will be understood as (type, (1,)) / '(1,)type'.\n",
      "  _np_quint8 = np.dtype([(\"quint8\", np.uint8, 1)])\n",
      "/usr/share/anaconda3/lib/python3.6/site-packages/tensorflow/python/framework/dtypes.py:528: FutureWarning: Passing (type, 1) or '1type' as a synonym of type is deprecated; in a future version of numpy, it will be understood as (type, (1,)) / '(1,)type'.\n",
      "  _np_qint16 = np.dtype([(\"qint16\", np.int16, 1)])\n",
      "/usr/share/anaconda3/lib/python3.6/site-packages/tensorflow/python/framework/dtypes.py:529: FutureWarning: Passing (type, 1) or '1type' as a synonym of type is deprecated; in a future version of numpy, it will be understood as (type, (1,)) / '(1,)type'.\n",
      "  _np_quint16 = np.dtype([(\"quint16\", np.uint16, 1)])\n",
      "/usr/share/anaconda3/lib/python3.6/site-packages/tensorflow/python/framework/dtypes.py:530: FutureWarning: Passing (type, 1) or '1type' as a synonym of type is deprecated; in a future version of numpy, it will be understood as (type, (1,)) / '(1,)type'.\n",
      "  _np_qint32 = np.dtype([(\"qint32\", np.int32, 1)])\n",
      "/usr/share/anaconda3/lib/python3.6/site-packages/tensorflow/python/framework/dtypes.py:535: FutureWarning: Passing (type, 1) or '1type' as a synonym of type is deprecated; in a future version of numpy, it will be understood as (type, (1,)) / '(1,)type'.\n",
      "  np_resource = np.dtype([(\"resource\", np.ubyte, 1)])\n"
     ]
    },
    {
     "name": "stdout",
     "output_type": "stream",
     "text": [
      "                                                 text       label\n",
      "0   Stuning even for the non-gamer: This sound tra...  __label__2\n",
      "1   The best soundtrack ever to anything.: I'm rea...  __label__2\n",
      "2   Amazing!: This soundtrack is my favorite music...  __label__2\n",
      "3   Excellent Soundtrack: I truly like this soundt...  __label__2\n",
      "4   Remember, Pull Your Jaw Off The Floor After He...  __label__2\n",
      "5   an absolute masterpiece: I am quite sure any o...  __label__2\n",
      "6   Buyer beware: This is a self-published book, a...  __label__1\n",
      "7   Glorious story: I loved Whisper of the wicked ...  __label__2\n",
      "8   A FIVE STAR BOOK: I just finished reading Whis...  __label__2\n",
      "9   Whispers of the Wicked Saints: This was a easy...  __label__2\n",
      "10  The Worst!: A complete waste of time. Typograp...  __label__1\n",
      "11  Great book: This was a great book,I just could...  __label__2\n",
      "12  Great Read: I thought this book was brilliant,...  __label__2\n",
      "13  Oh please: I guess you have to be a romance no...  __label__1\n",
      "14  Awful beyond belief!: I feel I have to write t...  __label__1\n",
      "15  Don't try to fool us with fake reviews.: It's ...  __label__1\n",
      "16  A romantic zen baseball comedy: When you hear ...  __label__2\n",
      "17  Fashionable Compression Stockings!: After I ha...  __label__2\n",
      "18  Jobst UltraSheer Thigh High: Excellent product...  __label__2\n",
      "19  sizes recomended in the size chart are not rea...  __label__1\n",
      "20  mens ultrasheer: This model may be ok for sede...  __label__1\n",
      "21  Delicious cookie mix: I thought it was funny t...  __label__2\n",
      "22  Another Abysmal Digital Copy: Rather than scra...  __label__1\n",
      "23  A fascinating insight into the life of modern ...  __label__2\n",
      "24  i liked this album more then i thought i would...  __label__2\n",
      "25  Problem with charging smaller AAAs: I have had...  __label__1\n",
      "26  Works, but not as advertised: I bought one of ...  __label__1\n",
      "27  Disappointed: I read the reviews,made my purch...  __label__1\n",
      "28  Oh dear: I was excited to find a book ostensib...  __label__1\n",
      "29  Based on the reviews here I bought one and I'm...  __label__2\n",
      "..                                                ...         ...\n",
      "70  [Not what I expected]: ... My daughter and I l...  __label__1\n",
      "71  barbie rapunzel = crying child: My 6-year old ...  __label__1\n",
      "72  Barbie as Rapunzel: A Creative Adventure: I pu...  __label__2\n",
      "73  Use your imagination!: My 3 year old daughter ...  __label__2\n",
      "74  Not so good - ok for a rental!: This game is p...  __label__1\n",
      "75  NOT OS X but MAC CLASSIC: NEGATIVE: This game ...  __label__1\n",
      "76  Bad Deal!!: I ordered this DVD and received a ...  __label__1\n",
      "77  Smells divine.: This is my second bottle of sh...  __label__2\n",
      "78  Very disappointed!: This perfume is just AWFUL...  __label__1\n",
      "79  Creepy: Wow, what people will do behind jealou...  __label__2\n",
      "80  audio options non existent: While the movie in...  __label__1\n",
      "81  Sooo JAMMIN', too trill: Man, some more jammin...  __label__2\n",
      "82  Dirty South: This is probably the best southsi...  __label__2\n",
      "83  Good book: Well written chronicles of The Farm...  __label__2\n",
      "84  voices from the farm: i have a copy of this bo...  __label__2\n",
      "85  Little one, maid of Israel: Bill Harvey has a ...  __label__2\n",
      "86  It Drew Air: This book drew air pretty bad. I ...  __label__1\n",
      "87  comfy,warm.. but run big: just like the title ...  __label__2\n",
      "88  Buyer Beware!!: I ordered the cake topper June...  __label__1\n",
      "89  Ariel Litte Mermaid with pearl kit: Arrived ve...  __label__1\n",
      "90  No instructions included - do not trust seller...  __label__1\n",
      "91  Why is SOULWAX ignored by critics & consumers ...  __label__2\n",
      "92  OMG Soulwax owns: wow - this is like the most ...  __label__2\n",
      "93  Slow dull \"classical\" 1980's style movie: 2 st...  __label__1\n",
      "94  Thank you for Releasing it!!!!!: I loved this ...  __label__2\n",
      "95  Very Not Worth Your Time: The book was wriiten...  __label__1\n",
      "96  Very fun and educational: Trains, shapes and p...  __label__2\n",
      "97  Ludicrous and silly: I remember getting this b...  __label__1\n",
      "98  Artistry: I think that the Deodato concerts ar...  __label__2\n",
      "99  Caution!: These tracks are not the \"original\" ...  __label__1\n",
      "\n",
      "[100 rows x 2 columns]\n",
      "                                                     text       label\n",
      "count                                               10000       10000\n",
      "unique                                              10000           2\n",
      "top     very bad quality!!!!!: This blu ray is horribl...  __label__1\n",
      "freq                                                    1        5097\n"
     ]
    }
   ],
   "source": [
    "#import bibliotek\n",
    "import pandas as pd\n",
    "from sklearn.feature_extraction.text import TfidfVectorizer\n",
    "from sklearn import model_selection, preprocessing, linear_model, naive_bayes, metrics, svm\n",
    "from sklearn import ensemble\n",
    "from keras import layers, models, optimizers\n",
    "import numpy\n",
    "import re\n",
    "\n",
    "# załaduj zbiór danych\n",
    "# __label__2 - recenzja pozytywna\n",
    "# __label__1 - recenzja negatywna\n",
    "# dataset https://gist.github.com/kunalj101/ad1d9c58d338e20d09ff26bcc06c4235\n",
    "data = open('corpus').read()\n",
    "\n",
    "#wypełnij listy z recenzjami i etykietami\n",
    "labels, texts = [], []\n",
    "for i, line in enumerate(data.split(\"\\n\")): \n",
    "    content = line.split()\n",
    "    labels.append(content[0])\n",
    "    texts.append(\" \".join(content[1:]))\n",
    "\n",
    "# utwórz ramkę danych\n",
    "trainDF = pd.DataFrame()\n",
    "# dodaj teksty do ramki danych\n",
    "trainDF['text'] = texts\n",
    "# dodaj etykiety do ramki danych\n",
    "trainDF['label'] = labels\n",
    "\n",
    "#wyświetl pierwszych 100 rekordów\n",
    "print(trainDF.head(100))\n",
    "#wyświetl informacje na temat zbioru danych\n",
    "print(trainDF.describe())"
   ]
  },
  {
   "cell_type": "markdown",
   "metadata": {},
   "source": [
    "### Analiza zbioru danych"
   ]
  },
  {
   "cell_type": "code",
   "execution_count": 3,
   "metadata": {},
   "outputs": [
    {
     "name": "stdout",
     "output_type": "stream",
     "text": [
      "                                                text  word_count\n",
      "0  Stuning even for the non-gamer: This sound tra...          80\n",
      "1  The best soundtrack ever to anything.: I'm rea...          97\n",
      "2  Amazing!: This soundtrack is my favorite music...         129\n",
      "3  Excellent Soundtrack: I truly like this soundt...         118\n",
      "4  Remember, Pull Your Jaw Off The Floor After He...          87\n",
      "212\n",
      "14\n",
      "79.5532\n"
     ]
    }
   ],
   "source": [
    "# sprawdź liczbę słów w każdej recenzji\n",
    "train = trainDF.copy()\n",
    "train['word_count'] = train['text'].apply(lambda x: len(str(x).split(\" \")))\n",
    "print(train[['text','word_count']].head())\n",
    "print(train['word_count'].max())\n",
    "print(train['word_count'].min())\n",
    "print(train['word_count'].mean())"
   ]
  },
  {
   "cell_type": "code",
   "execution_count": 4,
   "metadata": {},
   "outputs": [
    {
     "data": {
      "text/html": [
       "<div>\n",
       "<style scoped>\n",
       "    .dataframe tbody tr th:only-of-type {\n",
       "        vertical-align: middle;\n",
       "    }\n",
       "\n",
       "    .dataframe tbody tr th {\n",
       "        vertical-align: top;\n",
       "    }\n",
       "\n",
       "    .dataframe thead th {\n",
       "        text-align: right;\n",
       "    }\n",
       "</style>\n",
       "<table border=\"1\" class=\"dataframe\">\n",
       "  <thead>\n",
       "    <tr style=\"text-align: right;\">\n",
       "      <th></th>\n",
       "      <th>text</th>\n",
       "      <th>char_count</th>\n",
       "    </tr>\n",
       "  </thead>\n",
       "  <tbody>\n",
       "    <tr>\n",
       "      <th>0</th>\n",
       "      <td>Stuning even for the non-gamer: This sound tra...</td>\n",
       "      <td>426</td>\n",
       "    </tr>\n",
       "    <tr>\n",
       "      <th>1</th>\n",
       "      <td>The best soundtrack ever to anything.: I'm rea...</td>\n",
       "      <td>509</td>\n",
       "    </tr>\n",
       "    <tr>\n",
       "      <th>2</th>\n",
       "      <td>Amazing!: This soundtrack is my favorite music...</td>\n",
       "      <td>760</td>\n",
       "    </tr>\n",
       "    <tr>\n",
       "      <th>3</th>\n",
       "      <td>Excellent Soundtrack: I truly like this soundt...</td>\n",
       "      <td>743</td>\n",
       "    </tr>\n",
       "    <tr>\n",
       "      <th>4</th>\n",
       "      <td>Remember, Pull Your Jaw Off The Floor After He...</td>\n",
       "      <td>481</td>\n",
       "    </tr>\n",
       "  </tbody>\n",
       "</table>\n",
       "</div>"
      ],
      "text/plain": [
       "                                                text  char_count\n",
       "0  Stuning even for the non-gamer: This sound tra...         426\n",
       "1  The best soundtrack ever to anything.: I'm rea...         509\n",
       "2  Amazing!: This soundtrack is my favorite music...         760\n",
       "3  Excellent Soundtrack: I truly like this soundt...         743\n",
       "4  Remember, Pull Your Jaw Off The Floor After He...         481"
      ]
     },
     "execution_count": 4,
     "metadata": {},
     "output_type": "execute_result"
    }
   ],
   "source": [
    "# sprawdź liczbę znaków\n",
    "train['char_count'] = train['text'].str.len() ## this also includes spaces\n",
    "train[['text','char_count']].head()"
   ]
  },
  {
   "cell_type": "code",
   "execution_count": 5,
   "metadata": {},
   "outputs": [
    {
     "data": {
      "text/html": [
       "<div>\n",
       "<style scoped>\n",
       "    .dataframe tbody tr th:only-of-type {\n",
       "        vertical-align: middle;\n",
       "    }\n",
       "\n",
       "    .dataframe tbody tr th {\n",
       "        vertical-align: top;\n",
       "    }\n",
       "\n",
       "    .dataframe thead th {\n",
       "        text-align: right;\n",
       "    }\n",
       "</style>\n",
       "<table border=\"1\" class=\"dataframe\">\n",
       "  <thead>\n",
       "    <tr style=\"text-align: right;\">\n",
       "      <th></th>\n",
       "      <th>text</th>\n",
       "      <th>avg_word</th>\n",
       "    </tr>\n",
       "  </thead>\n",
       "  <tbody>\n",
       "    <tr>\n",
       "      <th>0</th>\n",
       "      <td>Stuning even for the non-gamer: This sound tra...</td>\n",
       "      <td>4.337500</td>\n",
       "    </tr>\n",
       "    <tr>\n",
       "      <th>1</th>\n",
       "      <td>The best soundtrack ever to anything.: I'm rea...</td>\n",
       "      <td>4.257732</td>\n",
       "    </tr>\n",
       "    <tr>\n",
       "      <th>2</th>\n",
       "      <td>Amazing!: This soundtrack is my favorite music...</td>\n",
       "      <td>4.899225</td>\n",
       "    </tr>\n",
       "    <tr>\n",
       "      <th>3</th>\n",
       "      <td>Excellent Soundtrack: I truly like this soundt...</td>\n",
       "      <td>5.305085</td>\n",
       "    </tr>\n",
       "    <tr>\n",
       "      <th>4</th>\n",
       "      <td>Remember, Pull Your Jaw Off The Floor After He...</td>\n",
       "      <td>4.540230</td>\n",
       "    </tr>\n",
       "  </tbody>\n",
       "</table>\n",
       "</div>"
      ],
      "text/plain": [
       "                                                text  avg_word\n",
       "0  Stuning even for the non-gamer: This sound tra...  4.337500\n",
       "1  The best soundtrack ever to anything.: I'm rea...  4.257732\n",
       "2  Amazing!: This soundtrack is my favorite music...  4.899225\n",
       "3  Excellent Soundtrack: I truly like this soundt...  5.305085\n",
       "4  Remember, Pull Your Jaw Off The Floor After He...  4.540230"
      ]
     },
     "execution_count": 5,
     "metadata": {},
     "output_type": "execute_result"
    }
   ],
   "source": [
    "# sprawdź średnią liczbę znaków przypadających na jedno słowo\n",
    "\n",
    "def avg_word(sentence):\n",
    "  words = sentence.split()\n",
    "  return (sum(len(word) for word in words)/len(words))\n",
    "\n",
    "train['avg_word'] = train['text'].apply(lambda x: avg_word(x))\n",
    "train[['text','avg_word']].head()"
   ]
  },
  {
   "cell_type": "code",
   "execution_count": 6,
   "metadata": {},
   "outputs": [
    {
     "name": "stdout",
     "output_type": "stream",
     "text": [
      "[nltk_data] Downloading package stopwords to /home/michal/nltk_data...\n",
      "[nltk_data]   Package stopwords is already up-to-date!\n"
     ]
    },
    {
     "data": {
      "text/html": [
       "<div>\n",
       "<style scoped>\n",
       "    .dataframe tbody tr th:only-of-type {\n",
       "        vertical-align: middle;\n",
       "    }\n",
       "\n",
       "    .dataframe tbody tr th {\n",
       "        vertical-align: top;\n",
       "    }\n",
       "\n",
       "    .dataframe thead th {\n",
       "        text-align: right;\n",
       "    }\n",
       "</style>\n",
       "<table border=\"1\" class=\"dataframe\">\n",
       "  <thead>\n",
       "    <tr style=\"text-align: right;\">\n",
       "      <th></th>\n",
       "      <th>text</th>\n",
       "      <th>stopwords</th>\n",
       "    </tr>\n",
       "  </thead>\n",
       "  <tbody>\n",
       "    <tr>\n",
       "      <th>0</th>\n",
       "      <td>Stuning even for the non-gamer: This sound tra...</td>\n",
       "      <td>29</td>\n",
       "    </tr>\n",
       "    <tr>\n",
       "      <th>1</th>\n",
       "      <td>The best soundtrack ever to anything.: I'm rea...</td>\n",
       "      <td>42</td>\n",
       "    </tr>\n",
       "    <tr>\n",
       "      <th>2</th>\n",
       "      <td>Amazing!: This soundtrack is my favorite music...</td>\n",
       "      <td>48</td>\n",
       "    </tr>\n",
       "    <tr>\n",
       "      <th>3</th>\n",
       "      <td>Excellent Soundtrack: I truly like this soundt...</td>\n",
       "      <td>33</td>\n",
       "    </tr>\n",
       "    <tr>\n",
       "      <th>4</th>\n",
       "      <td>Remember, Pull Your Jaw Off The Floor After He...</td>\n",
       "      <td>28</td>\n",
       "    </tr>\n",
       "  </tbody>\n",
       "</table>\n",
       "</div>"
      ],
      "text/plain": [
       "                                                text  stopwords\n",
       "0  Stuning even for the non-gamer: This sound tra...         29\n",
       "1  The best soundtrack ever to anything.: I'm rea...         42\n",
       "2  Amazing!: This soundtrack is my favorite music...         48\n",
       "3  Excellent Soundtrack: I truly like this soundt...         33\n",
       "4  Remember, Pull Your Jaw Off The Floor After He...         28"
      ]
     },
     "execution_count": 6,
     "metadata": {},
     "output_type": "execute_result"
    }
   ],
   "source": [
    "# sprawdź liczbę słów ze stoplisty (popularne słowa, które nie zawierają dodatkowej informacji dla modelu)\n",
    "\n",
    "import nltk\n",
    "nltk.download('stopwords')\n",
    "from nltk.corpus import stopwords\n",
    "\n",
    "stop = stopwords.words('english')\n",
    "\n",
    "train['stopwords'] = train['text'].apply(lambda x: len([x for x in x.split() if x in stop]))\n",
    "train[['text','stopwords']].head()"
   ]
  },
  {
   "cell_type": "code",
   "execution_count": 7,
   "metadata": {},
   "outputs": [
    {
     "name": "stdout",
     "output_type": "stream",
     "text": [
      "                                                text  numerics\n",
      "0  Stuning even for the non-gamer: This sound tra...         0\n",
      "1  The best soundtrack ever to anything.: I'm rea...         0\n",
      "2  Amazing!: This soundtrack is my favorite music...         1\n",
      "3  Excellent Soundtrack: I truly like this soundt...         0\n",
      "4  Remember, Pull Your Jaw Off The Floor After He...         0\n",
      "13\n",
      "0\n",
      "0.3557\n"
     ]
    }
   ],
   "source": [
    "# sprawdź liczbę znaków numerycznych\n",
    "\n",
    "train['numerics'] = train['text'].apply(lambda x: len([x for x in x.split(' ') if x.isnumeric()]))\n",
    "print(train[['text','numerics']].head())\n",
    "print(train['numerics'].max())\n",
    "print(train['numerics'].min())\n",
    "print(train['numerics'].mean())"
   ]
  },
  {
   "cell_type": "code",
   "execution_count": 8,
   "metadata": {},
   "outputs": [
    {
     "name": "stdout",
     "output_type": "stream",
     "text": [
      "                                                text  upper\n",
      "0  Stuning even for the non-gamer: This sound tra...      3\n",
      "1  The best soundtrack ever to anything.: I'm rea...      3\n",
      "2  Amazing!: This soundtrack is my favorite music...      4\n",
      "3  Excellent Soundtrack: I truly like this soundt...      4\n",
      "4  Remember, Pull Your Jaw Off The Floor After He...      0\n",
      "179\n",
      "0\n",
      "11.2266\n"
     ]
    }
   ],
   "source": [
    "# sprawdź liczbę wielkich liter\n",
    "\n",
    "train['upper'] = train['text'].apply(lambda x: len([x for x in x.split() if x.isupper()]))\n",
    "print(train[['text','upper']].head())\n",
    "\n",
    "train['capital'] = train['text'].apply(lambda x: len([x for x in x.split(' ') if x[0].isupper()]))\n",
    "print(train['capital'].max())\n",
    "print(train['capital'].min())\n",
    "print(train['capital'].mean())"
   ]
  },
  {
   "cell_type": "code",
   "execution_count": 9,
   "metadata": {},
   "outputs": [
    {
     "name": "stdout",
     "output_type": "stream",
     "text": [
      "                                                text  upper\n",
      "0  Stuning even for the non-gamer: This sound tra...      3\n",
      "1  The best soundtrack ever to anything.: I'm rea...      3\n",
      "2  Amazing!: This soundtrack is my favorite music...      4\n",
      "3  Excellent Soundtrack: I truly like this soundt...      4\n",
      "4  Remember, Pull Your Jaw Off The Floor After He...      0\n",
      "179\n",
      "0\n",
      "11.2266\n"
     ]
    }
   ],
   "source": [
    "# sprawdź liczbę znaków interpunkcyjnych\n",
    "\n",
    "train['punctuation'] = train['text'].apply(lambda x: len(re.findall(r'[\\.,?!;:]', x)))\n",
    "print(train[['text','upper']].head())\n",
    "\n",
    "train['punctuation'] = train['text'].apply(lambda x: len([x for x in x.split(' ') if x[0].isupper()]))\n",
    "print(train['punctuation'].max())\n",
    "print(train['punctuation'].min())\n",
    "print(train['punctuation'].mean())"
   ]
  },
  {
   "cell_type": "markdown",
   "metadata": {},
   "source": [
    "### 2. Normalizacja tekstu"
   ]
  },
  {
   "cell_type": "code",
   "execution_count": 10,
   "metadata": {},
   "outputs": [
    {
     "data": {
      "text/plain": [
       "0    stuning even for the non-gamer: this sound tra...\n",
       "1    the best soundtrack ever to anything.: i'm rea...\n",
       "2    amazing!: this soundtrack is my favorite music...\n",
       "3    excellent soundtrack: i truly like this soundt...\n",
       "4    remember, pull your jaw off the floor after he...\n",
       "Name: text, dtype: object"
      ]
     },
     "execution_count": 10,
     "metadata": {},
     "output_type": "execute_result"
    }
   ],
   "source": [
    "# ujednolicenie pisowni - zamień wielkie litery na małe\n",
    "\n",
    "trainDFRaw = trainDF.copy()\n",
    "\n",
    "trainDF['text'] = trainDF['text'].apply(lambda x: \" \".join(x.lower() for x in x.split()))\n",
    "trainDF['text'].head()"
   ]
  },
  {
   "cell_type": "code",
   "execution_count": 12,
   "metadata": {},
   "outputs": [
    {
     "data": {
      "text/plain": [
       "0    stuning even for the nongamer this sound track...\n",
       "1    the best soundtrack ever to anything im readin...\n",
       "2    amazing this soundtrack is my favorite music o...\n",
       "3    excellent soundtrack i truly like this soundtr...\n",
       "4    remember pull your jaw off the floor after hea...\n",
       "Name: text, dtype: object"
      ]
     },
     "execution_count": 12,
     "metadata": {},
     "output_type": "execute_result"
    }
   ],
   "source": [
    "# usunięcie wszystkich znaków poza literami i biłymi znakami\n",
    "\n",
    "trainDF['text'] = trainDF['text'].str.replace('[^\\w\\s]','')\n",
    "trainDF['text'].head()"
   ]
  },
  {
   "cell_type": "code",
   "execution_count": 13,
   "metadata": {},
   "outputs": [
    {
     "data": {
      "text/plain": [
       "0    stuning even nongamer sound track beautiful pa...\n",
       "1    best soundtrack ever anything im reading lot r...\n",
       "2    amazing soundtrack favorite music time hands i...\n",
       "3    excellent soundtrack truly like soundtrack enj...\n",
       "4    remember pull jaw floor hearing youve played g...\n",
       "Name: text, dtype: object"
      ]
     },
     "execution_count": 13,
     "metadata": {},
     "output_type": "execute_result"
    }
   ],
   "source": [
    "# usunięcie słów \"stopwords\"\n",
    "\n",
    "stop = stopwords.words('english')\n",
    "trainDF['text'] = trainDF['text'].apply(lambda x: \" \".join(x for x in x.split() if x not in stop))\n",
    "trainDF['text'].head()"
   ]
  },
  {
   "cell_type": "code",
   "execution_count": 14,
   "metadata": {},
   "outputs": [
    {
     "data": {
      "text/plain": [
       "book      6496\n",
       "one       3857\n",
       "like      2813\n",
       "good      2769\n",
       "read      2740\n",
       "great     2719\n",
       "movie     2543\n",
       "would     2381\n",
       "get       1931\n",
       "time      1903\n",
       "dont      1771\n",
       "really    1604\n",
       "first     1444\n",
       "much      1419\n",
       "even      1400\n",
       "well      1362\n",
       "story     1334\n",
       "buy       1233\n",
       "love      1193\n",
       "best      1107\n",
       "dtype: int64"
      ]
     },
     "execution_count": 14,
     "metadata": {},
     "output_type": "execute_result"
    }
   ],
   "source": [
    "# przygotowanie listy najczęściej wystepujących słów\n",
    "\n",
    "freq = pd.Series(' '.join(trainDF['text']).split()).value_counts()[:20]\n",
    "freq"
   ]
  },
  {
   "cell_type": "code",
   "execution_count": 15,
   "metadata": {},
   "outputs": [
    {
     "data": {
      "text/plain": [
       "0    stuning nongamer sound track beautiful paints ...\n",
       "1    soundtrack ever anything im reading lot review...\n",
       "2    amazing soundtrack favorite music hands intens...\n",
       "3    excellent soundtrack truly soundtrack enjoy vi...\n",
       "4    remember pull jaw floor hearing youve played g...\n",
       "Name: text, dtype: object"
      ]
     },
     "execution_count": 15,
     "metadata": {},
     "output_type": "execute_result"
    }
   ],
   "source": [
    "# usunięcie słów najczęściej występujących\n",
    "\n",
    "freq = list(freq.index)\n",
    "trainDF['text'] = trainDF['text'].apply(lambda x: \" \".join(x for x in x.split() if x not in freq))\n",
    "trainDF['text'].head()"
   ]
  },
  {
   "cell_type": "code",
   "execution_count": 16,
   "metadata": {},
   "outputs": [
    {
     "data": {
      "text/plain": [
       "terrifyingly    1\n",
       "unhook          1\n",
       "pointer         1\n",
       "nationi         1\n",
       "burleigh        1\n",
       "diettwo         1\n",
       "trekkies        1\n",
       "resurecting     1\n",
       "canciones       1\n",
       "wie             1\n",
       "bumpkin         1\n",
       "67mm            1\n",
       "screed          1\n",
       "desde           1\n",
       "materialas      1\n",
       "knocker         1\n",
       "dlis            1\n",
       "apartthe        1\n",
       "girlshe         1\n",
       "689             1\n",
       "dtype: int64"
      ]
     },
     "execution_count": 16,
     "metadata": {},
     "output_type": "execute_result"
    }
   ],
   "source": [
    "# przygotowanie listy słów najrzadziej występujących\n",
    "\n",
    "freq = pd.Series(' '.join(trainDF['text']).split()).value_counts()[-20:]\n",
    "freq"
   ]
  },
  {
   "cell_type": "code",
   "execution_count": 17,
   "metadata": {},
   "outputs": [
    {
     "data": {
      "text/plain": [
       "0    stuning nongamer sound track beautiful paints ...\n",
       "1    soundtrack ever anything im reading lot review...\n",
       "2    amazing soundtrack favorite music hands intens...\n",
       "3    excellent soundtrack truly soundtrack enjoy vi...\n",
       "4    remember pull jaw floor hearing youve played g...\n",
       "Name: text, dtype: object"
      ]
     },
     "execution_count": 17,
     "metadata": {},
     "output_type": "execute_result"
    }
   ],
   "source": [
    "# usuniecie słów najrzadziej wystepujących\n",
    "\n",
    "freq = list(freq.index)\n",
    "trainDF['text'] = trainDF['text'].apply(lambda x: \" \".join(x for x in x.split() if x not in freq))\n",
    "trainDF['text'].head()"
   ]
  },
  {
   "cell_type": "code",
   "execution_count": 18,
   "metadata": {},
   "outputs": [
    {
     "data": {
      "text/plain": [
       "0    tuning nongamer sound track beautiful points s...\n",
       "1    soundtrack ever anything in reading lot review...\n",
       "2    amazing soundtrack favorite music hands intens...\n",
       "3    excellent soundtrack truly soundtrack enjoy vi...\n",
       "4    remember pull jaw floor hearing you played gam...\n",
       "Name: text, dtype: object"
      ]
     },
     "execution_count": 18,
     "metadata": {},
     "output_type": "execute_result"
    }
   ],
   "source": [
    "# poprawa pisowni (literówki)\n",
    "\n",
    "from textblob import TextBlob\n",
    "trainDF['text'][:5].apply(lambda x: str(TextBlob(x).correct()))"
   ]
  },
  {
   "cell_type": "code",
   "execution_count": 19,
   "metadata": {},
   "outputs": [
    {
     "name": "stdout",
     "output_type": "stream",
     "text": [
      "[nltk_data] Downloading package wordnet to /home/michal/nltk_data...\n",
      "[nltk_data]   Package wordnet is already up-to-date!\n"
     ]
    },
    {
     "data": {
      "text/plain": [
       "0    stuning nongamer sound track beautiful paint s...\n",
       "1    soundtrack ever anything im reading lot review...\n",
       "2    amazing soundtrack favorite music hand intense...\n",
       "3    excellent soundtrack truly soundtrack enjoy vi...\n",
       "4    remember pull jaw floor hearing youve played g...\n",
       "Name: text, dtype: object"
      ]
     },
     "execution_count": 19,
     "metadata": {},
     "output_type": "execute_result"
    }
   ],
   "source": [
    "#lematyzacja - zamiana słów ich podstawową formą\n",
    "\n",
    "from textblob import Word\n",
    "nltk.download('wordnet')\n",
    "\n",
    "trainDF = trainDF.copy()\n",
    "trainDF['text'] = trainDF['text'].apply(lambda x: \" \".join([Word(word).lemmatize() for word in x.split()]))\n",
    "trainDF['text'].head()"
   ]
  },
  {
   "cell_type": "markdown",
   "metadata": {},
   "source": [
    "### 3. Przygotowanie modelu"
   ]
  },
  {
   "cell_type": "code",
   "execution_count": 20,
   "metadata": {},
   "outputs": [
    {
     "name": "stdout",
     "output_type": "stream",
     "text": [
      "[0 1 1 ... 1 1 0]\n"
     ]
    }
   ],
   "source": [
    "# podział zbioru danych na dane treningowe i dane testowe\n",
    "train_x, valid_x, train_y, valid_y = model_selection.train_test_split(trainDF['text'], trainDF['label'])\n",
    "\n",
    "# kodowanie etykiet do postaci numerycznej \n",
    "encoder = preprocessing.LabelEncoder()\n",
    "train_y = encoder.fit_transform(train_y)\n",
    "valid_y = encoder.fit_transform(valid_y)\n",
    "\n",
    "print(valid_y)"
   ]
  },
  {
   "cell_type": "code",
   "execution_count": 21,
   "metadata": {},
   "outputs": [],
   "source": [
    "# kodowanie recenzji tekstowych do formatu wektorów liczbowych TF-IDF\n",
    "\n",
    "tfidf_vect = TfidfVectorizer(analyzer='word', token_pattern=r'\\w{1,}', max_features=5000)\n",
    "tfidf_vect.fit(trainDF['text'])\n",
    "xtrain_tfidf =  tfidf_vect.transform(train_x)\n",
    "xvalid_tfidf =  tfidf_vect.transform(valid_x)\n"
   ]
  },
  {
   "cell_type": "code",
   "execution_count": 22,
   "metadata": {},
   "outputs": [],
   "source": [
    "# uniwersalna metoda do trenowania i oceny modeli\n",
    "\n",
    "def train_model(classifier, feature_vector_train, label, feature_vector_valid, is_neural_net=False):\n",
    "    # trenuj model\n",
    "    classifier.fit(feature_vector_train, label)\n",
    "    \n",
    "    # wygeneruj przewidywania modelu dla zbioru testowego\n",
    "    predictions = classifier.predict(feature_vector_valid)\n",
    "    \n",
    "    if is_neural_net:\n",
    "        predictions = predictions.argmax(axis=-1)\n",
    "    \n",
    "    # dokonaj ewaluacji modelu na podstawie danych testowych\n",
    "    scores = list(metrics.precision_recall_fscore_support(predictions, valid_y))\n",
    "    score_vals = [\n",
    "        scores[0][0],\n",
    "        scores[1][0],\n",
    "        scores[2][0]\n",
    "    ]\n",
    "    score_vals.append(metrics.accuracy_score(predictions, valid_y))\n",
    "    return score_vals"
   ]
  },
  {
   "cell_type": "code",
   "execution_count": 24,
   "metadata": {},
   "outputs": [
    {
     "name": "stdout",
     "output_type": "stream",
     "text": [
      "LR, WordLevel TF-IDF:  [0.8599527930763179, 0.8565830721003135, 0.8582646250490773, 0.8556]\n"
     ]
    }
   ],
   "source": [
    "# MODEL 1 - regresja logistyczna \n",
    "accuracy = train_model(linear_model.LogisticRegression(), xtrain_tfidf, train_y, xvalid_tfidf)\n",
    "accuracy_compare = {'LR': accuracy}\n",
    "print (\"LR, WordLevel TF-IDF: \", accuracy)"
   ]
  },
  {
   "cell_type": "code",
   "execution_count": 25,
   "metadata": {},
   "outputs": [
    {
     "name": "stdout",
     "output_type": "stream",
     "text": [
      "SVM, N-Gram Vectors:  [1.0, 0.5084, 0.6740917528507027, 0.5084]\n"
     ]
    },
    {
     "name": "stderr",
     "output_type": "stream",
     "text": [
      "/usr/share/anaconda3/lib/python3.6/site-packages/sklearn/metrics/classification.py:1137: UndefinedMetricWarning: Recall and F-score are ill-defined and being set to 0.0 in labels with no true samples.\n",
      "  'recall', 'true', average, warn_for)\n"
     ]
    }
   ],
   "source": [
    "# MODEL 2 - Support Vector Machine\n",
    "\n",
    "accuracy = train_model(svm.SVC(), xtrain_tfidf, train_y, xvalid_tfidf)\n",
    "accuracy_compare['SVM'] = accuracy\n",
    "print (\"SVM, N-Gram Vectors: \", accuracy)"
   ]
  },
  {
   "cell_type": "code",
   "execution_count": 26,
   "metadata": {},
   "outputs": [
    {
     "name": "stdout",
     "output_type": "stream",
     "text": [
      "RF, WordLevel TF-IDF:  [0.8339889850511408, 0.7491166077738516, 0.7892777364110202, 0.7736]\n"
     ]
    }
   ],
   "source": [
    "# MODEL 3 - Random Forest Tree \n",
    "accuracy = train_model(ensemble.RandomForestClassifier(), xtrain_tfidf, train_y, xvalid_tfidf)\n",
    "accuracy_compare['RF'] = accuracy\n",
    "print (\"RF, WordLevel TF-IDF: \", accuracy)"
   ]
  },
  {
   "cell_type": "code",
   "execution_count": 27,
   "metadata": {},
   "outputs": [],
   "source": [
    "# kodowanie słów - word embeddings\n",
    "\n",
    "from keras.preprocessing import text, sequence\n",
    "\n",
    "# load the pre-trained word-embedding vectors \n",
    "embeddings_index = {}\n",
    "for i, line in enumerate(open('wiki-news-300d-1M.vec')):\n",
    "    values = line.split()\n",
    "    embeddings_index[values[0]] = numpy.asarray(values[1:], dtype='float32')\n",
    "\n",
    "# create a tokenizer \n",
    "token = text.Tokenizer()\n",
    "token.fit_on_texts(trainDF['text'])\n",
    "word_index = token.word_index\n",
    "\n",
    "# convert text to sequence of tokens and pad them to ensure equal length vectors \n",
    "train_seq_x = sequence.pad_sequences(token.texts_to_sequences(train_x), maxlen=70)\n",
    "valid_seq_x = sequence.pad_sequences(token.texts_to_sequences(valid_x), maxlen=70)\n",
    "\n",
    "# create token-embedding mapping\n",
    "embedding_matrix = numpy.zeros((len(word_index) + 1, 300))\n",
    "for word, i in word_index.items():\n",
    "    embedding_vector = embeddings_index.get(word)\n",
    "    if embedding_vector is not None:\n",
    "        embedding_matrix[i] = embedding_vector"
   ]
  },
  {
   "cell_type": "code",
   "execution_count": 28,
   "metadata": {},
   "outputs": [
    {
     "name": "stdout",
     "output_type": "stream",
     "text": [
      "WARNING:tensorflow:From /usr/share/anaconda3/lib/python3.6/site-packages/tensorflow/python/ops/resource_variable_ops.py:435: colocate_with (from tensorflow.python.framework.ops) is deprecated and will be removed in a future version.\n",
      "Instructions for updating:\n",
      "Colocations handled automatically by placer.\n",
      "WARNING:tensorflow:From /usr/share/anaconda3/lib/python3.6/site-packages/tensorflow/python/ops/math_ops.py:3066: to_int32 (from tensorflow.python.ops.math_ops) is deprecated and will be removed in a future version.\n",
      "Instructions for updating:\n",
      "Use tf.cast instead.\n",
      "WARNING:tensorflow:From /usr/share/anaconda3/lib/python3.6/site-packages/tensorflow/python/ops/math_grad.py:102: div (from tensorflow.python.ops.math_ops) is deprecated and will be removed in a future version.\n",
      "Instructions for updating:\n",
      "Deprecated in favor of operator or tf.math.divide.\n",
      "Epoch 1/1\n",
      "7500/7500 [==============================] - 15s 2ms/step - loss: 0.5602\n",
      "CNN, Word Embeddings [1.0, 0.5084, 0.6740917528507027, 0.5084]\n"
     ]
    },
    {
     "name": "stderr",
     "output_type": "stream",
     "text": [
      "/usr/share/anaconda3/lib/python3.6/site-packages/sklearn/metrics/classification.py:1137: UndefinedMetricWarning: Recall and F-score are ill-defined and being set to 0.0 in labels with no true samples.\n",
      "  'recall', 'true', average, warn_for)\n"
     ]
    }
   ],
   "source": [
    "# MODEL 4 - Sieć neuronowa CNN wykorzystujaca kodowanie word embeddings\n",
    "\n",
    "def create_cnn():\n",
    "    # Dodaj warstwę wejściową\n",
    "    input_layer = layers.Input((70, ))\n",
    "\n",
    "    # Dodaj warstę kodującą\n",
    "    embedding_layer = layers.Embedding(len(word_index) + 1, 300, weights=[embedding_matrix], trainable=False)(input_layer)\n",
    "    embedding_layer = layers.SpatialDropout1D(0.3)(embedding_layer)\n",
    "\n",
    "    # Dodaj warstwę konwolucyjną\n",
    "    conv_layer = layers.Convolution1D(100, 3, activation=\"relu\")(embedding_layer)\n",
    "\n",
    "    # Dodaj warstwę łączącą\n",
    "    pooling_layer = layers.GlobalMaxPool1D()(conv_layer)\n",
    "\n",
    "    # Dodaj warstwy wyjściowe\n",
    "    output_layer1 = layers.Dense(50, activation=\"relu\")(pooling_layer)\n",
    "    output_layer1 = layers.Dropout(0.25)(output_layer1)\n",
    "    output_layer2 = layers.Dense(1, activation=\"sigmoid\")(output_layer1)\n",
    "\n",
    "    # Skompiluj model\n",
    "    model = models.Model(inputs=input_layer, outputs=output_layer2)\n",
    "    model.compile(optimizer=optimizers.Adam(), loss='binary_crossentropy')\n",
    "    \n",
    "    return model\n",
    "\n",
    "classifier = create_cnn()\n",
    "accuracy = train_model(classifier, train_seq_x, train_y, valid_seq_x, is_neural_net=True)\n",
    "accuracy_compare['CNN'] = accuracy\n",
    "print (\"CNN, Word Embeddings\",  accuracy)"
   ]
  },
  {
   "cell_type": "markdown",
   "metadata": {},
   "source": [
    "### Ewaluacja modeli"
   ]
  },
  {
   "cell_type": "code",
   "execution_count": 30,
   "metadata": {},
   "outputs": [
    {
     "data": {
      "text/plain": [
       "<matplotlib.axes._subplots.AxesSubplot at 0x7febdc80ac88>"
      ]
     },
     "execution_count": 30,
     "metadata": {},
     "output_type": "execute_result"
    },
    {
     "data": {
      "image/png": "[encoded data removed]",
      "text/plain": [
       "<Figure size 432x288 with 1 Axes>"
      ]
     },
     "metadata": {},
     "output_type": "display_data"
    }
   ],
   "source": [
    "# porównanie modeli\n",
    "\n",
    "df_compare = pd.DataFrame(accuracy_compare, index = ['precision', 'recall', 'f1 score', 'accuracy'])\n",
    "df_compare.plot(kind='bar')"
   ]
  },
  {
   "cell_type": "code",
   "execution_count": 30,
   "metadata": {},
   "outputs": [
    {
     "name": "stderr",
     "output_type": "stream",
     "text": [
      "/home/rzar/anaconda/lib/python3.7/site-packages/sklearn/linear_model/logistic.py:432: FutureWarning: Default solver will be changed to 'lbfgs' in 0.22. Specify a solver to silence this warning.\n",
      "  FutureWarning)\n"
     ]
    },
    {
     "data": {
      "text/plain": [
       "<matplotlib.axes._subplots.AxesSubplot at 0x7fcf49ff5b90>"
      ]
     },
     "execution_count": 30,
     "metadata": {},
     "output_type": "execute_result"
    },
    {
     "data": {
      "image/png": "[encoded data removed]",
      "text/plain": [
       "<Figure size 432x288 with 1 Axes>"
      ]
     },
     "metadata": {
      "needs_background": "light"
     },
     "output_type": "display_data"
    }
   ],
   "source": [
    "# bez normalizacji tekstu\n",
    "\n",
    "# podział zbioru danych na dane treningowe i dane testowe\n",
    "train_x, valid_x, train_y, valid_y = model_selection.train_test_split(trainDFRaw['text'], trainDFRaw['label'])\n",
    "\n",
    "# kodowanie etykiet do postaci numerycznej \n",
    "encoder = preprocessing.LabelEncoder()\n",
    "train_y = encoder.fit_transform(train_y)\n",
    "valid_y = encoder.fit_transform(valid_y)\n",
    "\n",
    "# kodowanie recenzji tekstowych do formatu wektorów liczbowych TF-IDF\n",
    "\n",
    "tfidf_vect = TfidfVectorizer(analyzer='word', token_pattern=r'\\w{1,}', max_features=5000)\n",
    "tfidf_vect.fit(trainDF['text'])\n",
    "xtrain_tfidf =  tfidf_vect.transform(train_x)\n",
    "xvalid_tfidf =  tfidf_vect.transform(valid_x)\n",
    "\n",
    "# MODEL 1 - regresja logistyczna \n",
    "accuracy_compare['LRRaw'] = accuracy\n",
    "accuracy = train_model(linear_model.LogisticRegression(), xtrain_tfidf, train_y, xvalid_tfidf)\n",
    "\n",
    "df_compare = pd.DataFrame(accuracy_compare, index = ['precision', 'recall', 'f1 score', 'accuracy'])\n",
    "df_compare.plot(kind='bar')"
   ]
  },
  {
   "cell_type": "code",
   "execution_count": null,
   "metadata": {},
   "outputs": [],
   "source": []
  }
 ],
 "metadata": {
  "kernelspec": {
   "display_name": "Python 3 (ipykernel)",
   "language": "python",
   "name": "python3"
  },
  "language_info": {
   "codemirror_mode": {
    "name": "ipython",
    "version": 3
   },
   "file_extension": ".py",
   "mimetype": "text/x-python",
   "name": "python",
   "nbconvert_exporter": "python",
   "pygments_lexer": "ipython3",
   "version": "3.9.7"
  }
 },
 "nbformat": 4,
 "nbformat_minor": 2
}
