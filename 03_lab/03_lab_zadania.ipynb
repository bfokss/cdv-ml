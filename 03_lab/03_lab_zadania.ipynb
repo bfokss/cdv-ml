{
 "cells": [
  {
   "cell_type": "markdown",
   "id": "30c4393f",
   "metadata": {},
   "source": [
    "1. Lista (list)\n",
    "\n",
    "Napisz program, który zapełni listę pięcioma nazwami miast i wypisze te zaczynające się od liter\n",
    "późniejszych w alfabecie niż K, a następnie wypisze wszystkie dłuższe niż 6-znakowe."
   ]
  },
  {
   "cell_type": "code",
   "execution_count": 51,
   "id": "3dbc58b8",
   "metadata": {},
   "outputs": [
    {
     "name": "stdout",
     "output_type": "stream",
     "text": [
      "Cities starting with letter not from range A-K:\n",
      "['Warsaw', 'London', 'Taumatawhakatangihangakoauauotamateaturipukakapikimaungahoronukupokaiwhenuakitanatahu']\n",
      "\n",
      "Cities with name longer than six characters:\n",
      "['Taumatawhakatangihangakoauauotamateaturipukakapikimaungahoronukupokaiwhenuakitanatahu']\n",
      "\n"
     ]
    }
   ],
   "source": [
    "cities = ['Warsaw', 'London', 'Berlin', 'khair', 'Taumatawhakatangihangakoauauotamateaturipukakapikimaungahoronukupokaiwhenuakitanatahu']\n",
    "def list_func(param_list):\n",
    "    big_range = range(65,76)\n",
    "    small_range = range(97,108)\n",
    "    toDelete = []\n",
    "    longerThanSix = []\n",
    "    for item in param_list:\n",
    "        if ((ord(item[0]) in big_range) or (ord(item[0]) in small_range)):\n",
    "            toDelete.append(item)\n",
    "        else:\n",
    "            pass\n",
    "    for item in toDelete:\n",
    "        param_list.remove(item)\n",
    "    print(f\"Cities starting with letter not from range A-K:\\n{param_list}\\n\")\n",
    "    [longerThanSix.append(item) for item in param_list if len(item) > 6]\n",
    "    print(f\"Cities with name longer than six characters:\\n{longerThanSix}\\n\")\n",
    "\n",
    "list_func(cities)\n"
   ]
  },
  {
   "cell_type": "markdown",
   "id": "21e53db6",
   "metadata": {},
   "source": [
    "2. Słownik (dictionary)\n",
    "\n",
    "Napisz program, który po podaniu numeru miesiąca poda jego nazwę w języku polskim.\n",
    "Do przechowania numerów miesięcy i odpowiadających im nazw wykorzystaj słownik.\n"
   ]
  },
  {
   "cell_type": "code",
   "execution_count": 32,
   "id": "05d664fb",
   "metadata": {},
   "outputs": [
    {
     "name": "stdout",
     "output_type": "stream",
     "text": [
      "Pass correct month number between 1 and 12!\n",
      "Number u passed 22\n",
      "Number: 2 | Month: Luty\n"
     ]
    }
   ],
   "source": [
    "def getMonth(month_number):\n",
    "    month_range = range(1, 12)\n",
    "    if month_number in month_range:\n",
    "        dict = {\n",
    "            1: \"Styczeń\",\n",
    "            2: \"Luty\",\n",
    "            3: \"Marzec\",\n",
    "            4: \"Kwiecień\",\n",
    "            5: \"Maj\",\n",
    "            6: \"Czerwiec\",\n",
    "            7: \"Lipiec\",\n",
    "            8: \"Sierpień\",\n",
    "            9: \"Wrzesień\",\n",
    "            10: \"Październik\",\n",
    "            11: \"Listopad\",\n",
    "            12: \"Grudzień\"\n",
    "        }\n",
    "        print(f\"Number: {month_number} | Month: {dict[month_number]}\")\n",
    "    else:\n",
    "        print(\"Pass correct month number between 1 and 12!\")\n",
    "        print(f\"Number u passed {month_number}\")\n",
    "    \n",
    "getMonth(22)\n",
    "getMonth(2)"
   ]
  },
  {
   "cell_type": "markdown",
   "id": "1e6169b6",
   "metadata": {},
   "source": [
    "3. Zbiór (set)\n",
    "\n",
    "Napisz program, który zdefiniuje 2 zbiory a następnie wyświetli ich logiczną sumę, część wspólną oraz\n",
    "różnicę.\n"
   ]
  },
  {
   "cell_type": "code",
   "execution_count": 2,
   "id": "cfbcb89a",
   "metadata": {},
   "outputs": [
    {
     "name": "stdout",
     "output_type": "stream",
     "text": [
      "Zestaw pierwszy: {1, 2, 3, 4, 5, 6}\n",
      "Zestaw drugi: {4, 5, 6, 7, 8, 9}\n",
      "\n",
      "Suma {1, 2, 3, 4, 5, 6, 7, 8, 9}\n",
      "Część wspólna {4, 5, 6}\n",
      "Różnica Pierwszego od Drugiego {1, 2, 3}\n",
      "Różnica Drugiego od Pierwszego {8, 9, 7}\n"
     ]
    }
   ],
   "source": [
    "firstSet = {1, 2, 3, 4, 5, 6}\n",
    "secondSet = {4, 5, 6, 7, 8, 9}\n",
    "\n",
    "\n",
    "print(f\"Zestaw pierwszy: {firstSet}\")\n",
    "print(f\"Zestaw drugi: {secondSet}\\n\")\n",
    "print(f\"Suma {firstSet | secondSet}\")\n",
    "print(f\"Część wspólna {firstSet & secondSet}\")\n",
    "print(f\"Różnica Pierwszego od Drugiego {firstSet - secondSet}\")\n",
    "print(f\"Różnica Drugiego od Pierwszego {secondSet - firstSet}\")"
   ]
  },
  {
   "cell_type": "markdown",
   "id": "0bf99f17",
   "metadata": {},
   "source": [
    "4. Krotka (tuple)\n",
    "\n",
    "Napisz program, w którym zdefiniujesz funkcję zwracającą pole i obwód koła na podstawie podanego\n",
    "promienia.\n"
   ]
  },
  {
   "cell_type": "code",
   "execution_count": 3,
   "id": "90584f96",
   "metadata": {},
   "outputs": [
    {
     "name": "stdout",
     "output_type": "stream",
     "text": [
      "This is what function returns: (28.274333882308138, 18.84955592153876) it is type of: <class 'tuple'>\n",
      "\n",
      "This is circle area: 28.274333882308138 | This is circle circumference: 18.84955592153876\n",
      "\n"
     ]
    }
   ],
   "source": [
    "import math\n",
    "\n",
    "def circle(radius):\n",
    "    area = math.pi * radius ** 2\n",
    "    circumference = 2 * math.pi * radius\n",
    "    return area, circumference\n",
    "\n",
    "newCircle = circle(3)\n",
    "\n",
    "area , circ = newCircle\n",
    "print(f\"This is what function returns: {newCircle} it is type of: {type(newCircle)}\\n\")\n",
    "print(f\"This is circle area: {area} | This is circle circumference: {circ}\\n\")"
   ]
  },
  {
   "cell_type": "markdown",
   "id": "8f82d0e4",
   "metadata": {},
   "source": [
    "5. Zapis tekstu do pliku\n",
    "\n",
    "Napisz program, który w pliku tekstowym o nazwie text.txt zapisze wprowadzany przez użytkownika\n",
    "tekst. Zapisywanie powinno zostać zakończone po napotkaniu pustego wiersza."
   ]
  },
  {
   "cell_type": "code",
   "execution_count": 24,
   "id": "e5c49829",
   "metadata": {},
   "outputs": [
    {
     "name": "stdout",
     "output_type": "stream",
     "text": [
      "This\n",
      "is\n",
      "text\n",
      "passed\n",
      "by\n",
      "user\n",
      ":)\n",
      "\n",
      "Reading text.txt file content: \n",
      "\n",
      "This\n",
      "is\n",
      "text\n",
      "passed\n",
      "by\n",
      "user\n",
      ":)\n",
      "\n",
      "\n"
     ]
    }
   ],
   "source": [
    "\n",
    "userInput = ''\n",
    "fileName = 'text.txt'\n",
    "f = open(fileName, 'w')\n",
    "\n",
    "while True:\n",
    "    userInput = input()\n",
    "    f.write(userInput)\n",
    "    f.write('\\n')\n",
    "    print(userInput)\n",
    "    if not userInput:\n",
    "        f.close()\n",
    "        break\n",
    "\n",
    "f = open('text.txt', 'r')\n",
    "print(f\"Reading {fileName} file content: \\n\")\n",
    "print(f.read())"
   ]
  },
  {
   "cell_type": "code",
   "execution_count": null,
   "id": "9ca83bac",
   "metadata": {},
   "outputs": [],
   "source": []
  }
 ],
 "metadata": {
  "kernelspec": {
   "display_name": "Python 3 (ipykernel)",
   "language": "python",
   "name": "python3"
  },
  "language_info": {
   "codemirror_mode": {
    "name": "ipython",
    "version": 3
   },
   "file_extension": ".py",
   "mimetype": "text/x-python",
   "name": "python",
   "nbconvert_exporter": "python",
   "pygments_lexer": "ipython3",
   "version": "3.9.7"
  }
 },
 "nbformat": 4,
 "nbformat_minor": 5
}
