{
 "cells": [
  {
   "cell_type": "markdown",
   "id": "87784d48",
   "metadata": {},
   "source": [
    "1. Reguły “Zen of Python”\n",
    "Wprowadź komendę `import this`.\n",
    "Przygotuj przykłady kodu ilustrujące 3 wybrane reguły zen of python (poprawnie oraz błędnie napisany\n",
    "kod).\n"
   ]
  },
  {
   "cell_type": "code",
   "execution_count": 1,
   "id": "e1249f86",
   "metadata": {},
   "outputs": [
    {
     "name": "stdout",
     "output_type": "stream",
     "text": [
      "The Zen of Python, by Tim Peters\n",
      "\n",
      "Beautiful is better than ugly.\n",
      "Explicit is better than implicit.\n",
      "Simple is better than complex.\n",
      "Complex is better than complicated.\n",
      "Flat is better than nested.\n",
      "Sparse is better than dense.\n",
      "Readability counts.\n",
      "Special cases aren't special enough to break the rules.\n",
      "Although practicality beats purity.\n",
      "Errors should never pass silently.\n",
      "Unless explicitly silenced.\n",
      "In the face of ambiguity, refuse the temptation to guess.\n",
      "There should be one-- and preferably only one --obvious way to do it.\n",
      "Although that way may not be obvious at first unless you're Dutch.\n",
      "Now is better than never.\n",
      "Although never is often better than *right* now.\n",
      "If the implementation is hard to explain, it's a bad idea.\n",
      "If the implementation is easy to explain, it may be a good idea.\n",
      "Namespaces are one honking great idea -- let's do more of those!\n"
     ]
    }
   ],
   "source": [
    "import this"
   ]
  },
  {
   "cell_type": "markdown",
   "id": "e7904d6e",
   "metadata": {},
   "source": [
    "a. Readability counts."
   ]
  },
  {
   "cell_type": "code",
   "execution_count": 9,
   "id": "278970d8",
   "metadata": {},
   "outputs": [
    {
     "name": "stdout",
     "output_type": "stream",
     "text": [
      "This is formated text and it looks awesome\n"
     ]
    }
   ],
   "source": [
    "a = \"formated\"\n",
    "b = \"awesome\"\n",
    "print(f'This is {a} text and it looks {b}')"
   ]
  },
  {
   "cell_type": "markdown",
   "id": "70da04d8",
   "metadata": {},
   "source": [
    "b. Errors should never pass silently."
   ]
  },
  {
   "cell_type": "code",
   "execution_count": 13,
   "id": "6f6e55c0",
   "metadata": {},
   "outputs": [
    {
     "name": "stdout",
     "output_type": "stream",
     "text": [
      "Something went wrong!\n",
      "Try/except exited.\n"
     ]
    }
   ],
   "source": [
    "try:\n",
    "    print(x)\n",
    "except:\n",
    "    print(\"Something went wrong!\")\n",
    "finally:\n",
    "    print(\"Try/except exited.\")"
   ]
  },
  {
   "cell_type": "markdown",
   "id": "8e5b8a6c",
   "metadata": {},
   "source": [
    "c. Sparse is better than dense."
   ]
  },
  {
   "cell_type": "code",
   "execution_count": 15,
   "id": "9dc84ed1",
   "metadata": {},
   "outputs": [
    {
     "name": "stdout",
     "output_type": "stream",
     "text": [
      "1 2 3\n",
      "4 5 6\n"
     ]
    }
   ],
   "source": [
    "a, b, c = 1, 2, 3\n",
    "x = 4\n",
    "y = 5\n",
    "z = 6\n",
    "print(a, b, c)\n",
    "print(x, y, z)"
   ]
  },
  {
   "cell_type": "code",
   "execution_count": null,
   "id": "fb28b2a1",
   "metadata": {},
   "outputs": [],
   "source": []
  }
 ],
 "metadata": {
  "kernelspec": {
   "display_name": "Python 3 (ipykernel)",
   "language": "python",
   "name": "python3"
  },
  "language_info": {
   "codemirror_mode": {
    "name": "ipython",
    "version": 3
   },
   "file_extension": ".py",
   "mimetype": "text/x-python",
   "name": "python",
   "nbconvert_exporter": "python",
   "pygments_lexer": "ipython3",
   "version": "3.9.7"
  }
 },
 "nbformat": 4,
 "nbformat_minor": 5
}
