{
 "cells": [
  {
   "cell_type": "code",
   "execution_count": 16,
   "id": "7dbcc8de",
   "metadata": {},
   "outputs": [
    {
     "name": "stdout",
     "output_type": "stream",
     "text": [
      "10\n"
     ]
    }
   ],
   "source": [
    "class Rectangle:\n",
    "    def __init__(self, a = 1, b = 1):\n",
    "        self.a = a\n",
    "        self.b = b\n",
    "    \n",
    "    def area(self):\n",
    "        self.area = self.a * self.b\n",
    "        print(f\"Rectangle area: {self.area}\")\n",
    "        \n",
    "    def __add__(self, x):\n",
    "        self.x = x\n",
    "        return self.a+self.x\n",
    "\n",
    "class Square(Rectangle):\n",
    "    def __init__(self, a = 1):\n",
    "        self.a = a\n",
    "        \n",
    "    def area(self):\n",
    "        self.area = self.a**2\n",
    "        print(f\"Square area: {self.area}\")\n",
    "        \n",
    "\n",
    "        \n",
    "a = Rectangle(5)\n",
    "b = Rectangle(4)\n",
    "\n",
    "print(b+6)"
   ]
  },
  {
   "cell_type": "code",
   "execution_count": 7,
   "id": "b456b375",
   "metadata": {},
   "outputs": [],
   "source": [
    "tup = ([1,2,3], 1, 2)"
   ]
  },
  {
   "cell_type": "code",
   "execution_count": 8,
   "id": "f7a91bb1",
   "metadata": {},
   "outputs": [
    {
     "data": {
      "text/plain": [
       "([1, 2, 3], 1, 2)"
      ]
     },
     "execution_count": 8,
     "metadata": {},
     "output_type": "execute_result"
    }
   ],
   "source": [
    "tup"
   ]
  },
  {
   "cell_type": "code",
   "execution_count": 11,
   "id": "e599ab39",
   "metadata": {},
   "outputs": [],
   "source": [
    "tup[0][0] = 5"
   ]
  },
  {
   "cell_type": "code",
   "execution_count": 12,
   "id": "e844768e",
   "metadata": {},
   "outputs": [
    {
     "data": {
      "text/plain": [
       "([5, 2, 3], 1, 2)"
      ]
     },
     "execution_count": 12,
     "metadata": {},
     "output_type": "execute_result"
    }
   ],
   "source": [
    "tup "
   ]
  },
  {
   "cell_type": "code",
   "execution_count": 13,
   "id": "68f3ac0a",
   "metadata": {},
   "outputs": [
    {
     "data": {
      "text/plain": [
       "{1, 2, 3, 7}"
      ]
     },
     "execution_count": 13,
     "metadata": {},
     "output_type": "execute_result"
    }
   ],
   "source": [
    "set([2,1,3,7,2])"
   ]
  },
  {
   "cell_type": "code",
   "execution_count": null,
   "id": "7d1058da",
   "metadata": {},
   "outputs": [],
   "source": []
  }
 ],
 "metadata": {
  "kernelspec": {
   "display_name": "Python 3 (ipykernel)",
   "language": "python",
   "name": "python3"
  },
  "language_info": {
   "codemirror_mode": {
    "name": "ipython",
    "version": 3
   },
   "file_extension": ".py",
   "mimetype": "text/x-python",
   "name": "python",
   "nbconvert_exporter": "python",
   "pygments_lexer": "ipython3",
   "version": "3.9.7"
  }
 },
 "nbformat": 4,
 "nbformat_minor": 5
}
